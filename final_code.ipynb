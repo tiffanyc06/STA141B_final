{
 "cells": [
  {
   "cell_type": "markdown",
   "metadata": {},
   "source": [
    "# Final Project: San Francisco Fire Department Service Calls"
   ]
  },
  {
   "cell_type": "markdown",
   "metadata": {},
   "source": [
    "### By: Jared Yu, Tiffany Chen, Emily Watkins"
   ]
  },
  {
   "cell_type": "code",
   "execution_count": 1,
   "metadata": {},
   "outputs": [],
   "source": [
    "import datetime as dt\n",
    "import pandas as pd\n",
    "from sodapy import Socrata"
   ]
  },
  {
   "cell_type": "code",
   "execution_count": 2,
   "metadata": {},
   "outputs": [],
   "source": [
    "pd.set_option(\"display.max_columns\", 100)\n",
    "pd.set_option(\"display.expand_frame_repr\", True)"
   ]
  },
  {
   "cell_type": "code",
   "execution_count": 3,
   "metadata": {},
   "outputs": [],
   "source": [
    "def api_query(SoQL_query):\n",
    "    \"\"\"\n",
    "    https://dev.socrata.com/foundry/data.sfgov.org/enhu-st7v\n",
    "    The function is created from code given to query data off the\n",
    "    API of the government website. Personal login information\n",
    "    is used to access the API. Additionally, a SoQL query is\n",
    "    used as an input to determine how the data should be accessed.\n",
    "    \n",
    "    Args: SoQL_query, a SQL-like query using SocrataQL\n",
    "    Return: queried dataset in dataframe format\n",
    "    \"\"\"\n",
    "    client = Socrata(domain='data.sfgov.org', \n",
    "                     app_token='LatHs7KifDEpxpxnlKMb9SFfy', \n",
    "                     username=\"qzyu999@gmail.com\", \n",
    "                     password=\"SFData999\")\n",
    "\n",
    "    result_list = client.get(\"enhu-st7v\", limit=5000000, where=SoQL_query)\n",
    "\n",
    "    return(pd.DataFrame.from_records(result_list))"
   ]
  },
  {
   "cell_type": "code",
   "execution_count": 7,
   "metadata": {},
   "outputs": [],
   "source": [
    "def get_time_of_day(hour):\n",
    "    \"\"\"\n",
    "    Takes in an int that indicates hour (0-24), and uses that to determine time of day (e.g. 7 is \"morning\").\n",
    "    \n",
    "    Args: 'hour' (hour of day, int)\n",
    "    Return: 'tod' (time of day, string)\n",
    "    \"\"\"\n",
    "    # By Hour Logic: 0-4 night; 5-11 morning; 12-16 afternoon; 17-19 evening; 20-24 night\n",
    "    if hour in range(5, 11+1):\n",
    "        tod = \"morning\"\n",
    "    elif hour in range(12, 16+1):\n",
    "        tod = \"afternoon\"\n",
    "    elif hour in range(17, 19+1):\n",
    "        tod = \"evening\"\n",
    "    else:\n",
    "        tod = \"night\"\n",
    "    \n",
    "    return tod"
   ]
  },
  {
   "cell_type": "code",
   "execution_count": 8,
   "metadata": {},
   "outputs": [],
   "source": [
    "def get_season(month):\n",
    "    \"\"\"\n",
    "    Takes in an int that indicates the month (1-12), and uses that to determine season (e.g. \"winter\").\n",
    "    \n",
    "    Args: 'month' (month of year, int)\n",
    "    Return: 'season' (season of year, string)\n",
    "    \"\"\"\n",
    "    # Source: https://www.timeanddate.com/calendar/aboutseasons.html\n",
    "    # Meteorological Season Definition (e.g. Spring is March 1 - May 31)\n",
    "    if month in range(3, 5+1):\n",
    "        season = \"Spring\"\n",
    "    elif month in range(6, 8+1):\n",
    "        season = \"Summer\"\n",
    "    elif month in range(9, 11+1):\n",
    "        season = \"Fall\"\n",
    "    else:\n",
    "        season = \"Winter\"\n",
    "    \n",
    "    return season"
   ]
  },
  {
   "cell_type": "code",
   "execution_count": 9,
   "metadata": {},
   "outputs": [],
   "source": [
    "def clean_my_data(df, col_list):\n",
    "    \"\"\"\n",
    "    Takes in the dataframe that needs to be cleaned. Also takes in the list of column names of\n",
    "    complicated and long dates, for proper date conversion.\n",
    "    \n",
    "    Args: 'df' (the dataframe to be cleaned)\n",
    "          'col_list' (the list of complicated datetime column names)\n",
    "    Return: 'df' (the dataframe already cleaned)\n",
    "    \"\"\"\n",
    "    # Simple data type conversions to int\n",
    "    df[\"number_of_alarms\"] = df[\"number_of_alarms\"].astype(int)\n",
    "    df[\"unit_sequence_in_call_dispatch\"] = df[\"unit_sequence_in_call_dispatch\"].astype(int)\n",
    "    \n",
    "    # Simple datetime conversions\n",
    "    df[\"call_date\"] = pd.to_datetime(df[\"call_date\"], format=\"%Y-%m-%d\")\n",
    "    df[\"watch_date\"] = pd.to_datetime(df[\"watch_date\"], format=\"%Y-%m-%d\")\n",
    "    \n",
    "    # For every value in the provided complicated datetime column list, change data types to datetimes\n",
    "    for val in col_list:\n",
    "        df[val] = pd.to_datetime(df[val], format=\"%Y-%m-%dT%H:%M:%S.%f\")\n",
    "        \n",
    "    # Day of The Week, Time of Day, and Season columns\n",
    "    # Source: https://stackoverflow.com/questions/25146121/extracting-just-month-and-year-from-pandas-datetime-column-python\n",
    "    df[\"year\"] = pd.DatetimeIndex(df[\"call_date\"]).year\n",
    "    df[\"month\"] = pd.DatetimeIndex(df[\"call_date\"]).month\n",
    "    df[\"dotw\"] = df[\"call_date\"].dt.day_name()\n",
    "    df[\"hour\"] = pd.DatetimeIndex(df[\"received_dttm\"]).hour\n",
    "    df[\"time_of_day\"] = df[\"hour\"].apply(lambda row: get_time_of_day(row))\n",
    "    df[\"season\"] = df[\"month\"].apply(lambda row: get_season(row))\n",
    "    \n",
    "    # Lat/Long\n",
    "    df[\"lat\"] = [i[\"coordinates\"][0] for i in df[\"location\"]]\n",
    "    df[\"long\"] = [i[\"coordinates\"][1] for i in df[\"location\"]]\n",
    "    \n",
    "    return df"
   ]
  },
  {
   "cell_type": "code",
   "execution_count": 7,
   "metadata": {},
   "outputs": [],
   "source": [
    "def get_clean_query(SoQL_query_timeframe,\n",
    "                    date_and_time_col_list,\n",
    "                    lodate=0,\n",
    "                    hidate=0):\n",
    "    \"\"\"\n",
    "    Queries data from API of the San Francisco government website, using a specified timeframe.\n",
    "    Cleans the data, and returns the clean dataframe. Also returns a date-subsetted dataframe\n",
    "    depending on user choice.\n",
    "    \n",
    "    Args: 'SoQL_query_timeframe' (a SQL-like query using SocrataQL),\n",
    "          'date_and_time_col_list' (the list of complicated datetime column names),\n",
    "          'lodate' (optional field, subsets by lowest date)\n",
    "          'hidate' (optional field, subsets by highest date)\n",
    "    Returns:\n",
    "    \"\"\"\n",
    "    # Query according the timeframe that user specifies\n",
    "    df_query = api_query(SoQL_query_timeframe)\n",
    "    # Clean all datatypes, add columns, etc.\n",
    "    clean_df = clean_my_data(df=df_query, col_list=date_and_time_col_list)\n",
    "    \n",
    "    # Subset df by date if desired\n",
    "    if (lodate == 0) & (hidate == 0):\n",
    "        date_subset_df = \"Not Specified\"\n",
    "    else:\n",
    "        if lodate != 0:\n",
    "            date_subset_df = clean_df[clean_df[\"watch_date\"] >= lodate]\n",
    "        if hidate !=0:\n",
    "            date_subset_df = clean_df[clean_df[\"watch_date\"] <= hidate]\n",
    "    \n",
    "    \n",
    "    # Return the original df (all dates) and the date subsetted df\n",
    "    return clean_df, date_subset_df"
   ]
  },
  {
   "cell_type": "code",
   "execution_count": 15,
   "metadata": {},
   "outputs": [],
   "source": [
    "post_2015 = 'watch_date>=\"2015-01-01T00:00:00\"'\n",
    "date_column_list = [\"received_dttm\", \"entry_dttm\", \"dispatch_dttm\", \"response_dttm\",\n",
    "                    \"on_scene_dttm\", \"transport_dttm\", \"hospital_dttm\", \"available_dttm\"]\n",
    "low_date = \"2015-01-01\"\n",
    "high_date = \"2018-11-20\""
   ]
  },
  {
   "cell_type": "code",
   "execution_count": null,
   "metadata": {},
   "outputs": [],
   "source": [
    "df_2015, df1 = get_clean_query(SoQL_query_timeframe=post_2015,\n",
    "                               date_and_time_col_list=date_column_list,\n",
    "                               lodate=low_date,\n",
    "                               hidate=high_date)"
   ]
  },
  {
   "cell_type": "code",
   "execution_count": 69,
   "metadata": {},
   "outputs": [
    {
     "data": {
      "text/plain": [
       "address                                      object\n",
       "als_unit                                       bool\n",
       "available_dttm                       datetime64[ns]\n",
       "battalion                                    object\n",
       "box                                          object\n",
       "call_date                            datetime64[ns]\n",
       "call_final_disposition                       object\n",
       "call_number                                  object\n",
       "call_type                                    object\n",
       "call_type_group                              object\n",
       "city                                         object\n",
       "dispatch_dttm                        datetime64[ns]\n",
       "entry_dttm                           datetime64[ns]\n",
       "final_priority                               object\n",
       "fire_prevention_district                     object\n",
       "hospital_dttm                        datetime64[ns]\n",
       "incident_number                              object\n",
       "location                                     object\n",
       "neighborhoods_analysis_boundaries            object\n",
       "number_of_alarms                              int64\n",
       "on_scene_dttm                        datetime64[ns]\n",
       "original_priority                            object\n",
       "priority                                     object\n",
       "received_dttm                        datetime64[ns]\n",
       "response_dttm                        datetime64[ns]\n",
       "rowid                                        object\n",
       "station_area                                 object\n",
       "supervisor_district                          object\n",
       "transport_dttm                       datetime64[ns]\n",
       "unit_id                                      object\n",
       "unit_sequence_in_call_dispatch                int64\n",
       "unit_type                                    object\n",
       "watch_date                           datetime64[ns]\n",
       "zipcode_of_incident                          object\n",
       "year                                          int64\n",
       "month                                         int64\n",
       "dotw                                         object\n",
       "hour                                          int64\n",
       "time_of_day                                  object\n",
       "lat                                         float64\n",
       "long                                        float64\n",
       "dtype: object"
      ]
     },
     "execution_count": 69,
     "metadata": {},
     "output_type": "execute_result"
    }
   ],
   "source": [
    "df1.dtypes"
   ]
  },
  {
   "cell_type": "code",
   "execution_count": 70,
   "metadata": {},
   "outputs": [
    {
     "data": {
      "text/plain": [
       "hospital_dttm          859794\n",
       "transport_dttm         852352\n",
       "on_scene_dttm          237318\n",
       "response_dttm           32153\n",
       "city                     2921\n",
       "station_area             2213\n",
       "zipcode_of_incident      1525\n",
       "call_type_group           848\n",
       "available_dttm            250\n",
       "original_priority          99\n",
       "box                        53\n",
       "dtype: int64"
      ]
     },
     "execution_count": 70,
     "metadata": {},
     "output_type": "execute_result"
    }
   ],
   "source": [
    "# This list makes a lot of sense, not every incident requires a hospital visit, transportation, etc.\n",
    "# Unfortunately we are missing a lot of on-scene date times though???\n",
    "df1.isna().sum().sort_values(ascending=False).head(11)"
   ]
  },
  {
   "cell_type": "code",
   "execution_count": 71,
   "metadata": {},
   "outputs": [
    {
     "data": {
      "text/plain": [
       "Timestamp('2018-11-20 00:00:00')"
      ]
     },
     "execution_count": 71,
     "metadata": {},
     "output_type": "execute_result"
    }
   ],
   "source": [
    "df1[\"watch_date\"].max()"
   ]
  },
  {
   "cell_type": "code",
   "execution_count": 72,
   "metadata": {},
   "outputs": [
    {
     "data": {
      "text/plain": [
       "array(['morning', 'evening', 'night', 'afternoon'], dtype=object)"
      ]
     },
     "execution_count": 72,
     "metadata": {},
     "output_type": "execute_result"
    }
   ],
   "source": [
    "df1[\"time_of_day\"].unique()"
   ]
  },
  {
   "cell_type": "code",
   "execution_count": 73,
   "metadata": {},
   "outputs": [
    {
     "data": {
      "text/html": [
       "<div>\n",
       "<style scoped>\n",
       "    .dataframe tbody tr th:only-of-type {\n",
       "        vertical-align: middle;\n",
       "    }\n",
       "\n",
       "    .dataframe tbody tr th {\n",
       "        vertical-align: top;\n",
       "    }\n",
       "\n",
       "    .dataframe thead th {\n",
       "        text-align: right;\n",
       "    }\n",
       "</style>\n",
       "<table border=\"1\" class=\"dataframe\">\n",
       "  <thead>\n",
       "    <tr style=\"text-align: right;\">\n",
       "      <th></th>\n",
       "      <th>address</th>\n",
       "      <th>als_unit</th>\n",
       "      <th>available_dttm</th>\n",
       "      <th>battalion</th>\n",
       "      <th>box</th>\n",
       "      <th>call_date</th>\n",
       "      <th>call_final_disposition</th>\n",
       "      <th>call_number</th>\n",
       "      <th>call_type</th>\n",
       "      <th>call_type_group</th>\n",
       "      <th>city</th>\n",
       "      <th>dispatch_dttm</th>\n",
       "      <th>entry_dttm</th>\n",
       "      <th>final_priority</th>\n",
       "      <th>fire_prevention_district</th>\n",
       "      <th>hospital_dttm</th>\n",
       "      <th>incident_number</th>\n",
       "      <th>location</th>\n",
       "      <th>neighborhoods_analysis_boundaries</th>\n",
       "      <th>number_of_alarms</th>\n",
       "      <th>on_scene_dttm</th>\n",
       "      <th>original_priority</th>\n",
       "      <th>priority</th>\n",
       "      <th>received_dttm</th>\n",
       "      <th>response_dttm</th>\n",
       "      <th>rowid</th>\n",
       "      <th>station_area</th>\n",
       "      <th>supervisor_district</th>\n",
       "      <th>transport_dttm</th>\n",
       "      <th>unit_id</th>\n",
       "      <th>unit_sequence_in_call_dispatch</th>\n",
       "      <th>unit_type</th>\n",
       "      <th>watch_date</th>\n",
       "      <th>zipcode_of_incident</th>\n",
       "      <th>year</th>\n",
       "      <th>month</th>\n",
       "      <th>dotw</th>\n",
       "      <th>hour</th>\n",
       "      <th>time_of_day</th>\n",
       "      <th>lat</th>\n",
       "      <th>long</th>\n",
       "    </tr>\n",
       "  </thead>\n",
       "  <tbody>\n",
       "    <tr>\n",
       "      <th>395941</th>\n",
       "      <td>POTRERO AV/CESAR CHAVEZ ST</td>\n",
       "      <td>True</td>\n",
       "      <td>2016-05-01 16:47:42</td>\n",
       "      <td>B10</td>\n",
       "      <td>2624</td>\n",
       "      <td>2016-05-01</td>\n",
       "      <td>Code 2 Transport</td>\n",
       "      <td>161222673</td>\n",
       "      <td>Medical Incident</td>\n",
       "      <td>Non Life-threatening</td>\n",
       "      <td>San Francisco</td>\n",
       "      <td>2016-05-01 16:37:58</td>\n",
       "      <td>2016-05-01 16:37:38</td>\n",
       "      <td>2</td>\n",
       "      <td>10</td>\n",
       "      <td>NaT</td>\n",
       "      <td>16048482</td>\n",
       "      <td>{'type': 'Point', 'coordinates': [-122.4050073...</td>\n",
       "      <td>Bernal Heights</td>\n",
       "      <td>1</td>\n",
       "      <td>2016-05-01 16:41:21</td>\n",
       "      <td>2</td>\n",
       "      <td>2</td>\n",
       "      <td>2016-05-01 16:36:53</td>\n",
       "      <td>2016-05-01 16:39:33</td>\n",
       "      <td>161222673-E09</td>\n",
       "      <td>09</td>\n",
       "      <td>9</td>\n",
       "      <td>NaT</td>\n",
       "      <td>E09</td>\n",
       "      <td>2</td>\n",
       "      <td>ENGINE</td>\n",
       "      <td>2016-05-01</td>\n",
       "      <td>94110</td>\n",
       "      <td>2016</td>\n",
       "      <td>5</td>\n",
       "      <td>Sunday</td>\n",
       "      <td>16</td>\n",
       "      <td>afternoon</td>\n",
       "      <td>-122.405007</td>\n",
       "      <td>37.749006</td>\n",
       "    </tr>\n",
       "  </tbody>\n",
       "</table>\n",
       "</div>"
      ],
      "text/plain": [
       "                           address  als_unit      available_dttm battalion  \\\n",
       "395941  POTRERO AV/CESAR CHAVEZ ST      True 2016-05-01 16:47:42       B10   \n",
       "\n",
       "         box  call_date call_final_disposition call_number         call_type  \\\n",
       "395941  2624 2016-05-01       Code 2 Transport   161222673  Medical Incident   \n",
       "\n",
       "             call_type_group           city       dispatch_dttm  \\\n",
       "395941  Non Life-threatening  San Francisco 2016-05-01 16:37:58   \n",
       "\n",
       "                entry_dttm final_priority fire_prevention_district  \\\n",
       "395941 2016-05-01 16:37:38              2                       10   \n",
       "\n",
       "       hospital_dttm incident_number  \\\n",
       "395941           NaT        16048482   \n",
       "\n",
       "                                                 location  \\\n",
       "395941  {'type': 'Point', 'coordinates': [-122.4050073...   \n",
       "\n",
       "       neighborhoods_analysis_boundaries  number_of_alarms  \\\n",
       "395941                    Bernal Heights                 1   \n",
       "\n",
       "             on_scene_dttm original_priority priority       received_dttm  \\\n",
       "395941 2016-05-01 16:41:21                 2        2 2016-05-01 16:36:53   \n",
       "\n",
       "             response_dttm          rowid station_area supervisor_district  \\\n",
       "395941 2016-05-01 16:39:33  161222673-E09           09                   9   \n",
       "\n",
       "       transport_dttm unit_id  unit_sequence_in_call_dispatch unit_type  \\\n",
       "395941            NaT     E09                               2    ENGINE   \n",
       "\n",
       "       watch_date zipcode_of_incident  year  month    dotw  hour time_of_day  \\\n",
       "395941 2016-05-01               94110  2016      5  Sunday    16   afternoon   \n",
       "\n",
       "               lat       long  \n",
       "395941 -122.405007  37.749006  "
      ]
     },
     "execution_count": 73,
     "metadata": {},
     "output_type": "execute_result"
    }
   ],
   "source": [
    "df1.sample()"
   ]
  },
  {
   "cell_type": "code",
   "execution_count": null,
   "metadata": {},
   "outputs": [],
   "source": []
  }
 ],
 "metadata": {
  "kernelspec": {
   "display_name": "Python 3",
   "language": "python",
   "name": "python3"
  },
  "language_info": {
   "codemirror_mode": {
    "name": "ipython",
    "version": 3
   },
   "file_extension": ".py",
   "mimetype": "text/x-python",
   "name": "python",
   "nbconvert_exporter": "python",
   "pygments_lexer": "ipython3",
   "version": "3.7.0"
  }
 },
 "nbformat": 4,
 "nbformat_minor": 2
}
