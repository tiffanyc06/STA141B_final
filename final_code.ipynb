{
 "cells": [
  {
   "cell_type": "markdown",
   "metadata": {},
   "source": [
    "# Final Project: San Francisco Fire Department Service Calls"
   ]
  },
  {
   "cell_type": "markdown",
   "metadata": {},
   "source": [
    "### By: Tiffany Chen, Jared Yu, Emily Watkins"
   ]
  },
  {
   "cell_type": "code",
   "execution_count": 49,
   "metadata": {},
   "outputs": [],
   "source": [
    "import datetime as dt\n",
    "import os\n",
    "import pandas as pd\n",
    "from sodapy import Socrata"
   ]
  },
  {
   "cell_type": "code",
   "execution_count": 61,
   "metadata": {},
   "outputs": [],
   "source": [
    "pd.set_option(\"display.max_columns\", 100)\n",
    "pd.set_option(\"display.expand_frame_repr\", True)"
   ]
  },
  {
   "cell_type": "code",
   "execution_count": 50,
   "metadata": {},
   "outputs": [],
   "source": [
    "def api_query(SoQL_query):\n",
    "    \"\"\"\n",
    "    https://dev.socrata.com/foundry/data.sfgov.org/enhu-st7v\n",
    "    The function is created from code given to query data off the\n",
    "    API of the government website. Personal login information\n",
    "    is used to access the API. Additionally, a SoQL query is\n",
    "    used as an input to determine how the data should be accessed.\n",
    "    \n",
    "    Args: SoQL_query, a SQL-like query using SocrataQL\n",
    "    Return: queried dataset in dataframe format\n",
    "    \"\"\"\n",
    "    client = Socrata(domain='data.sfgov.org', \n",
    "                     app_token='LatHs7KifDEpxpxnlKMb9SFfy', \n",
    "                     username=\"qzyu999@gmail.com\", \n",
    "                     password=\"SFData999\")\n",
    "\n",
    "    result_list = client.get(\"enhu-st7v\", limit=5000000, where=SoQL_query)\n",
    "\n",
    "    return(pd.DataFrame.from_records(result_list))"
   ]
  },
  {
   "cell_type": "code",
   "execution_count": 51,
   "metadata": {},
   "outputs": [],
   "source": [
    "def get_time_of_day(hour):\n",
    "    # By Hour Logic: 0-4 night; 5-11 morning; 12-16 afternoon; 17-19 evening; 20-24 night\n",
    "    if (hour > 4) & (hour <= 11):\n",
    "        tod = \"morning\"\n",
    "    elif (hour > 11) & (hour <= 16):\n",
    "        tod = \"afternoon\"\n",
    "    elif (hour > 16) & (hour <= 19):\n",
    "        tod = \"evening\"\n",
    "    else:\n",
    "        tod = \"night\"\n",
    "    \n",
    "    return tod"
   ]
  },
  {
   "cell_type": "code",
   "execution_count": 52,
   "metadata": {},
   "outputs": [],
   "source": [
    "def clean_my_data(df, col_list):\n",
    "    \"\"\"\n",
    "    Takes in the dataframe that needs to be cleaned. Also takes in the list of column names of\n",
    "    complicated and long dates, for proper date conversion.\n",
    "    \n",
    "    Args: 'df' (the dataframe to be cleaned)\n",
    "          'col_list' (the list of complicated datetime column names)\n",
    "    Return: 'df' (the dataframe already cleaned)\n",
    "    \"\"\"\n",
    "    # Simple data type conversions to int\n",
    "    df[\"number_of_alarms\"] = df[\"number_of_alarms\"].astype(int)\n",
    "    df[\"unit_sequence_in_call_dispatch\"] = df[\"unit_sequence_in_call_dispatch\"].astype(int)\n",
    "    \n",
    "    # Simple datetime conversions\n",
    "    df[\"call_date\"] = pd.to_datetime(df[\"call_date\"], format=\"%Y-%m-%d\")\n",
    "    df[\"watch_date\"] = pd.to_datetime(df[\"watch_date\"], format=\"%Y-%m-%d\")\n",
    "    \n",
    "    # For every value in the provided complicated datetime column list, change data types to datetimes\n",
    "    for val in col_list:\n",
    "        df[val] = pd.to_datetime(df[val], format=\"%Y-%m-%dT%H:%M:%S.%f\")\n",
    "        \n",
    "    # Day of The Week & Time of Day columns\n",
    "    # Source: https://stackoverflow.com/questions/25146121/extracting-just-month-and-year-from-pandas-datetime-column-python\n",
    "    df[\"year\"] = pd.DatetimeIndex(df[\"call_date\"]).year\n",
    "    df[\"month\"] = pd.DatetimeIndex(df[\"call_date\"]).month\n",
    "    df[\"dotw\"] = df[\"call_date\"].dt.day_name()\n",
    "    df[\"hour\"] = pd.DatetimeIndex(df[\"received_dttm\"]).hour\n",
    "    df[\"time_of_day\"] = df[\"hour\"].apply(lambda row: get_time_of_day(row))\n",
    "    \n",
    "    return df"
   ]
  },
  {
   "cell_type": "code",
   "execution_count": 53,
   "metadata": {},
   "outputs": [],
   "source": [
    "def get_clean_query(SoQL_query_timeframe,\n",
    "                    date_and_time_col_list,\n",
    "                    lodate=0,\n",
    "                    hidate=0):\n",
    "    \"\"\"\n",
    "    Queries data from API of the San Francisco government website, using a specified timeframe.\n",
    "    Cleans the data, and returns the clean dataframe. Also returns a date-subsetted dataframe\n",
    "    depending on user choice.\n",
    "    \n",
    "    Args: 'SoQL_query_timeframe' (a SQL-like query using SocrataQL),\n",
    "          'date_and_time_col_list' (the list of complicated datetime column names),\n",
    "          'lodate' (optional field, subsets by lowest date)\n",
    "          'hidate' (optional field, subsets by highest date)\n",
    "    Returns:\n",
    "    \"\"\"\n",
    "    # Query according the timeframe that user specifies\n",
    "    df_query = api_query(SoQL_query_timeframe)\n",
    "    # Clean all datatypes, add columns, etc.\n",
    "    clean_df = clean_my_data(df=df_query, col_list=date_and_time_col_list)\n",
    "    \n",
    "    # Subset df by date if desired\n",
    "    if lodate != 0:\n",
    "        date_subset_df = clean_df[clean_df[\"watch_date\"] >= lodate]\n",
    "    if hidate !=0:\n",
    "        date_subset_df = clean_df[clean_df[\"watch_date\"] <= hidate]\n",
    "    if (lodate == 0) & (hidate == 0):\n",
    "        date_subset_df = \"Not Specified\"\n",
    "    \n",
    "    # Return the original df (all dates) and the date subsetted df\n",
    "    return clean_df, date_subset_df"
   ]
  },
  {
   "cell_type": "code",
   "execution_count": 54,
   "metadata": {},
   "outputs": [],
   "source": [
    "post_2015 = 'watch_date>=\"2015-01-01T00:00:00\"'\n",
    "date_column_list = [\"received_dttm\", \"entry_dttm\", \"dispatch_dttm\", \"response_dttm\",\n",
    "                    \"on_scene_dttm\", \"transport_dttm\", \"hospital_dttm\", \"available_dttm\"]\n",
    "low_date = \"2015-01-01\"\n",
    "high_date = \"2018-11-20\""
   ]
  },
  {
   "cell_type": "code",
   "execution_count": 55,
   "metadata": {},
   "outputs": [],
   "source": [
    "df_2015, df1 = get_clean_query(SoQL_query_timeframe=post_2015,\n",
    "                               date_and_time_col_list=date_column_list,\n",
    "                               lodate=low_date,\n",
    "                               hidate=high_date)"
   ]
  },
  {
   "cell_type": "code",
   "execution_count": 64,
   "metadata": {},
   "outputs": [
    {
     "data": {
      "text/plain": [
       "address                                      object\n",
       "als_unit                                       bool\n",
       "available_dttm                       datetime64[ns]\n",
       "battalion                                    object\n",
       "box                                          object\n",
       "call_date                            datetime64[ns]\n",
       "call_final_disposition                       object\n",
       "call_number                                  object\n",
       "call_type                                    object\n",
       "call_type_group                              object\n",
       "city                                         object\n",
       "dispatch_dttm                        datetime64[ns]\n",
       "entry_dttm                           datetime64[ns]\n",
       "final_priority                               object\n",
       "fire_prevention_district                     object\n",
       "hospital_dttm                        datetime64[ns]\n",
       "incident_number                              object\n",
       "location                                     object\n",
       "neighborhoods_analysis_boundaries            object\n",
       "number_of_alarms                              int64\n",
       "on_scene_dttm                        datetime64[ns]\n",
       "original_priority                            object\n",
       "priority                                     object\n",
       "received_dttm                        datetime64[ns]\n",
       "response_dttm                        datetime64[ns]\n",
       "rowid                                        object\n",
       "station_area                                 object\n",
       "supervisor_district                          object\n",
       "transport_dttm                       datetime64[ns]\n",
       "unit_id                                      object\n",
       "unit_sequence_in_call_dispatch                int64\n",
       "unit_type                                    object\n",
       "watch_date                           datetime64[ns]\n",
       "zipcode_of_incident                          object\n",
       "year                                          int64\n",
       "month                                         int64\n",
       "dotw                                         object\n",
       "hour                                          int64\n",
       "time_of_day                                  object\n",
       "dtype: object"
      ]
     },
     "execution_count": 64,
     "metadata": {},
     "output_type": "execute_result"
    }
   ],
   "source": [
    "df1.dtypes"
   ]
  },
  {
   "cell_type": "code",
   "execution_count": 57,
   "metadata": {},
   "outputs": [
    {
     "data": {
      "text/plain": [
       "hospital_dttm          859794\n",
       "transport_dttm         852352\n",
       "on_scene_dttm          237318\n",
       "response_dttm           32153\n",
       "city                     2921\n",
       "station_area             2213\n",
       "zipcode_of_incident      1525\n",
       "call_type_group           848\n",
       "available_dttm            250\n",
       "original_priority          99\n",
       "box                        53\n",
       "dtype: int64"
      ]
     },
     "execution_count": 57,
     "metadata": {},
     "output_type": "execute_result"
    }
   ],
   "source": [
    "# This list makes a lot of sense, not every incident requires hospital, transportation, etc.\n",
    "# Unfortunately we are missing a lot of on-scene date times though?\n",
    "df1.isna().sum().sort_values(ascending=False).head(11)"
   ]
  },
  {
   "cell_type": "code",
   "execution_count": 58,
   "metadata": {},
   "outputs": [
    {
     "data": {
      "text/plain": [
       "Timestamp('2018-11-20 00:00:00')"
      ]
     },
     "execution_count": 58,
     "metadata": {},
     "output_type": "execute_result"
    }
   ],
   "source": [
    "df1[\"watch_date\"].max()"
   ]
  },
  {
   "cell_type": "code",
   "execution_count": 59,
   "metadata": {},
   "outputs": [
    {
     "data": {
      "text/plain": [
       "array(['afternoon', 'night', 'morning', 'evening'], dtype=object)"
      ]
     },
     "execution_count": 59,
     "metadata": {},
     "output_type": "execute_result"
    }
   ],
   "source": [
    "df1[\"time_of_day\"].unique()"
   ]
  },
  {
   "cell_type": "code",
   "execution_count": 62,
   "metadata": {},
   "outputs": [
    {
     "data": {
      "text/html": [
       "<div>\n",
       "<style scoped>\n",
       "    .dataframe tbody tr th:only-of-type {\n",
       "        vertical-align: middle;\n",
       "    }\n",
       "\n",
       "    .dataframe tbody tr th {\n",
       "        vertical-align: top;\n",
       "    }\n",
       "\n",
       "    .dataframe thead th {\n",
       "        text-align: right;\n",
       "    }\n",
       "</style>\n",
       "<table border=\"1\" class=\"dataframe\">\n",
       "  <thead>\n",
       "    <tr style=\"text-align: right;\">\n",
       "      <th></th>\n",
       "      <th>address</th>\n",
       "      <th>als_unit</th>\n",
       "      <th>available_dttm</th>\n",
       "      <th>battalion</th>\n",
       "      <th>box</th>\n",
       "      <th>call_date</th>\n",
       "      <th>call_final_disposition</th>\n",
       "      <th>call_number</th>\n",
       "      <th>call_type</th>\n",
       "      <th>call_type_group</th>\n",
       "      <th>city</th>\n",
       "      <th>dispatch_dttm</th>\n",
       "      <th>entry_dttm</th>\n",
       "      <th>final_priority</th>\n",
       "      <th>fire_prevention_district</th>\n",
       "      <th>hospital_dttm</th>\n",
       "      <th>incident_number</th>\n",
       "      <th>location</th>\n",
       "      <th>neighborhoods_analysis_boundaries</th>\n",
       "      <th>number_of_alarms</th>\n",
       "      <th>on_scene_dttm</th>\n",
       "      <th>original_priority</th>\n",
       "      <th>priority</th>\n",
       "      <th>received_dttm</th>\n",
       "      <th>response_dttm</th>\n",
       "      <th>rowid</th>\n",
       "      <th>station_area</th>\n",
       "      <th>supervisor_district</th>\n",
       "      <th>transport_dttm</th>\n",
       "      <th>unit_id</th>\n",
       "      <th>unit_sequence_in_call_dispatch</th>\n",
       "      <th>unit_type</th>\n",
       "      <th>watch_date</th>\n",
       "      <th>zipcode_of_incident</th>\n",
       "      <th>year</th>\n",
       "      <th>month</th>\n",
       "      <th>dotw</th>\n",
       "      <th>hour</th>\n",
       "      <th>time_of_day</th>\n",
       "    </tr>\n",
       "  </thead>\n",
       "  <tbody>\n",
       "    <tr>\n",
       "      <th>1175700</th>\n",
       "      <td>ULLOA ST/WEST PORTAL AV</td>\n",
       "      <td>True</td>\n",
       "      <td>2018-01-24 16:34:16</td>\n",
       "      <td>B08</td>\n",
       "      <td>8611</td>\n",
       "      <td>2018-01-24</td>\n",
       "      <td>Code 2 Transport</td>\n",
       "      <td>180242565</td>\n",
       "      <td>Medical Incident</td>\n",
       "      <td>Potentially Life-Threatening</td>\n",
       "      <td>San Francisco</td>\n",
       "      <td>2018-01-24 15:16:06</td>\n",
       "      <td>2018-01-24 15:15:49</td>\n",
       "      <td>3</td>\n",
       "      <td>8</td>\n",
       "      <td>2018-01-24 15:51:15</td>\n",
       "      <td>18010170</td>\n",
       "      <td>{'type': 'Point', 'coordinates': [-122.4658290...</td>\n",
       "      <td>West of Twin Peaks</td>\n",
       "      <td>1</td>\n",
       "      <td>2018-01-24 15:23:50</td>\n",
       "      <td>B</td>\n",
       "      <td>3</td>\n",
       "      <td>2018-01-24 15:15:49</td>\n",
       "      <td>2018-01-24 15:16:10</td>\n",
       "      <td>180242565-76</td>\n",
       "      <td>39</td>\n",
       "      <td>7</td>\n",
       "      <td>2018-01-24 15:41:31</td>\n",
       "      <td>76</td>\n",
       "      <td>2</td>\n",
       "      <td>MEDIC</td>\n",
       "      <td>2018-01-24</td>\n",
       "      <td>94127</td>\n",
       "      <td>2018</td>\n",
       "      <td>1</td>\n",
       "      <td>Wednesday</td>\n",
       "      <td>15</td>\n",
       "      <td>afternoon</td>\n",
       "    </tr>\n",
       "  </tbody>\n",
       "</table>\n",
       "</div>"
      ],
      "text/plain": [
       "                         address  als_unit      available_dttm battalion  \\\n",
       "1175700  ULLOA ST/WEST PORTAL AV      True 2018-01-24 16:34:16       B08   \n",
       "\n",
       "          box  call_date call_final_disposition call_number         call_type  \\\n",
       "1175700  8611 2018-01-24       Code 2 Transport   180242565  Medical Incident   \n",
       "\n",
       "                      call_type_group           city       dispatch_dttm  \\\n",
       "1175700  Potentially Life-Threatening  San Francisco 2018-01-24 15:16:06   \n",
       "\n",
       "                 entry_dttm final_priority fire_prevention_district  \\\n",
       "1175700 2018-01-24 15:15:49              3                        8   \n",
       "\n",
       "              hospital_dttm incident_number  \\\n",
       "1175700 2018-01-24 15:51:15        18010170   \n",
       "\n",
       "                                                  location  \\\n",
       "1175700  {'type': 'Point', 'coordinates': [-122.4658290...   \n",
       "\n",
       "        neighborhoods_analysis_boundaries  number_of_alarms  \\\n",
       "1175700                West of Twin Peaks                 1   \n",
       "\n",
       "              on_scene_dttm original_priority priority       received_dttm  \\\n",
       "1175700 2018-01-24 15:23:50                 B        3 2018-01-24 15:15:49   \n",
       "\n",
       "              response_dttm         rowid station_area supervisor_district  \\\n",
       "1175700 2018-01-24 15:16:10  180242565-76           39                   7   \n",
       "\n",
       "             transport_dttm unit_id  unit_sequence_in_call_dispatch unit_type  \\\n",
       "1175700 2018-01-24 15:41:31      76                               2     MEDIC   \n",
       "\n",
       "        watch_date zipcode_of_incident  year  month       dotw  hour  \\\n",
       "1175700 2018-01-24               94127  2018      1  Wednesday    15   \n",
       "\n",
       "        time_of_day  \n",
       "1175700   afternoon  "
      ]
     },
     "execution_count": 62,
     "metadata": {},
     "output_type": "execute_result"
    }
   ],
   "source": [
    "df1.sample()"
   ]
  },
  {
   "cell_type": "code",
   "execution_count": null,
   "metadata": {},
   "outputs": [],
   "source": []
  }
 ],
 "metadata": {
  "kernelspec": {
   "display_name": "Python 3",
   "language": "python",
   "name": "python3"
  },
  "language_info": {
   "codemirror_mode": {
    "name": "ipython",
    "version": 3
   },
   "file_extension": ".py",
   "mimetype": "text/x-python",
   "name": "python",
   "nbconvert_exporter": "python",
   "pygments_lexer": "ipython3",
   "version": "3.6.5"
  }
 },
 "nbformat": 4,
 "nbformat_minor": 2
}
