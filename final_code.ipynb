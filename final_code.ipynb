{
 "cells": [
  {
   "cell_type": "markdown",
   "metadata": {},
   "source": [
    "# Final Project: San Francisco Fire Department Service Calls"
   ]
  },
  {
   "cell_type": "markdown",
   "metadata": {},
   "source": [
    "### By: Jared Yu, Tiffany Chen, Emily Watkins"
   ]
  },
  {
   "cell_type": "code",
   "execution_count": 2,
   "metadata": {},
   "outputs": [],
   "source": [
    "import datetime as dt\n",
    "import holidays\n",
    "import pandas as pd\n",
    "from sodapy import Socrata"
   ]
  },
  {
   "cell_type": "code",
   "execution_count": 3,
   "metadata": {},
   "outputs": [],
   "source": [
    "pd.set_option(\"display.max_columns\", 100)\n",
    "pd.set_option(\"display.expand_frame_repr\", True)"
   ]
  },
  {
   "cell_type": "code",
   "execution_count": 4,
   "metadata": {},
   "outputs": [],
   "source": [
    "def api_query(SoQL_query):\n",
    "    \"\"\"\n",
    "    https://dev.socrata.com/foundry/data.sfgov.org/enhu-st7v\n",
    "    The function is created from code given to query data off the\n",
    "    API of the government website. Personal login information\n",
    "    is used to access the API. Additionally, a SoQL query is\n",
    "    used as an input to determine how the data should be accessed.\n",
    "    \n",
    "    Args: SoQL_query, a SQL-like query using SocrataQL\n",
    "    Return: queried dataset in dataframe format\n",
    "    \"\"\"\n",
    "    client = Socrata(domain=\"data.sfgov.org\",\n",
    "                     app_token=\"LatHs7KifDEpxpxnlKMb9SFfy\",\n",
    "                     username=\"qzyu999@gmail.com\",\n",
    "                     password=\"SFData999\")\n",
    "\n",
    "    result_list = client.get(\"enhu-st7v\", limit=5000000, where=SoQL_query)\n",
    "\n",
    "    return(pd.DataFrame.from_records(result_list))"
   ]
  },
  {
   "cell_type": "code",
   "execution_count": 5,
   "metadata": {},
   "outputs": [],
   "source": [
    "def get_time_of_day(hour):\n",
    "    \"\"\"\n",
    "    Takes in an int that indicates hour (0-24), and uses that to determine time of day (e.g. 7 is \"morning\").\n",
    "    \n",
    "    Args: 'hour' (hour of day, int)\n",
    "    Return: 'tod' (time of day, string)\n",
    "    \"\"\"\n",
    "    # By Hour Logic: 0-4 night; 5-11 morning; 12-16 afternoon; 17-19 evening; 20-24 night\n",
    "    if hour in range(5, 11+1):\n",
    "        tod = \"morning\"\n",
    "    elif hour in range(12, 16+1):\n",
    "        tod = \"afternoon\"\n",
    "    elif hour in range(17, 19+1):\n",
    "        tod = \"evening\"\n",
    "    else:\n",
    "        tod = \"night\"\n",
    "    \n",
    "    return tod"
   ]
  },
  {
   "cell_type": "code",
   "execution_count": 6,
   "metadata": {},
   "outputs": [],
   "source": [
    "def get_season(month):\n",
    "    \"\"\"\n",
    "    Takes in an int that indicates the month (1-12), and uses that to determine season (e.g. \"winter\").\n",
    "    \n",
    "    Args: 'month' (month of year, int)\n",
    "    Return: 'season' (season of year, string)\n",
    "    \"\"\"\n",
    "    # Source: https://www.timeanddate.com/calendar/aboutseasons.html\n",
    "    # Meteorological Season Definition (e.g. Spring is March 1 - May 31)\n",
    "    if month in range(3, 5+1):\n",
    "        season = \"Spring\"\n",
    "    elif month in range(6, 8+1):\n",
    "        season = \"Summer\"\n",
    "    elif month in range(9, 11+1):\n",
    "        season = \"Fall\"\n",
    "    else:\n",
    "        season = \"Winter\"\n",
    "    \n",
    "    return season"
   ]
  },
  {
   "cell_type": "code",
   "execution_count": 60,
   "metadata": {},
   "outputs": [],
   "source": [
    "def get_US_holidays(date, desired_state, desired_years):\n",
    "    \"\"\"\n",
    "    Takes in a date for some desired state and some set of years, and returns the\n",
    "    name of the holiday if it turns out to be a holiday for that year.\n",
    "    \n",
    "    Args: date (datetime object), desired_state (str of US state), desired_years(list of years)\n",
    "    Return: holiday (str of holiday name)\n",
    "    \"\"\"\n",
    "    # Dictionary of US holidays for a given state and set of years\n",
    "    US_holiday_dict = holidays.US(state=desired_state, years=desired_years)\n",
    "    # Source: https://stackoverflow.com/questions/1602934/check-if-a-given-key-already-exists-in-a-dictionary\n",
    "    # If date matches a key in the holiday dictionary, use the key, else, not a holiday\n",
    "    if date in US_holiday_dict:\n",
    "        holiday = US_holiday_dict[date]\n",
    "    else:\n",
    "        holiday = \"Not a Holiday\"\n",
    "        \n",
    "    return holiday"
   ]
  },
  {
   "cell_type": "code",
   "execution_count": 64,
   "metadata": {},
   "outputs": [],
   "source": [
    "def clean_my_data(df, col_list, year_list):\n",
    "    \"\"\"\n",
    "    Takes in the dataframe that needs to be cleaned. Also takes in the list of column names of\n",
    "    complicated and long dates, for proper date conversion.\n",
    "    \n",
    "    Args: 'df' (the dataframe to be cleaned)\n",
    "          'col_list' (the list of complicated datetime column names)\n",
    "    Return: 'df' (the dataframe already cleaned)\n",
    "    \"\"\"\n",
    "    # Simple data type conversions to int\n",
    "    df[\"number_of_alarms\"] = df[\"number_of_alarms\"].astype(int)\n",
    "    df[\"unit_sequence_in_call_dispatch\"] = df[\"unit_sequence_in_call_dispatch\"].astype(int)\n",
    "    \n",
    "    # Simple datetime conversions\n",
    "    df[\"call_date\"] = pd.to_datetime(df[\"call_date\"], format=\"%Y-%m-%d\")\n",
    "    df[\"watch_date\"] = pd.to_datetime(df[\"watch_date\"], format=\"%Y-%m-%d\")\n",
    "    \n",
    "    # For every value in the provided COMPLICATED datetime column list, change data types to datetimes\n",
    "    for val in col_list:\n",
    "        df[val] = pd.to_datetime(df[val], format=\"%Y-%m-%dT%H:%M:%S.%f\")\n",
    "        \n",
    "    # Day of The Week, Time of Day, and Season columns\n",
    "    # Source: https://stackoverflow.com/questions/25146121/extracting-just-month-and-year-from-pandas-datetime-column-python\n",
    "    df[\"year\"] = pd.DatetimeIndex(df[\"call_date\"]).year\n",
    "    df[\"month\"] = pd.DatetimeIndex(df[\"call_date\"]).month\n",
    "    df[\"dotw\"] = df[\"call_date\"].dt.day_name()\n",
    "    df[\"hour\"] = pd.DatetimeIndex(df[\"received_dttm\"]).hour\n",
    "    df[\"time_of_day\"] = df[\"hour\"].apply(lambda row: get_time_of_day(row))\n",
    "    df[\"season\"] = df[\"month\"].apply(lambda row: get_season(row))\n",
    "    \n",
    "    # Holidays\n",
    "    # Source: https://pypi.org/project/holidays/\n",
    "    df[\"holiday\"] = df[\"watch_date\"].apply(\n",
    "        lambda row:get_US_holidays(date=row, desired_state=\"CA\", desired_years=year_list))\n",
    "    \n",
    "    # Response Time (On-Scene timestamp minus Full Response Acknowledge timestamp)\n",
    "    df[\"total_resp_time\"] = df[\"on_scene_dttm\"] - df[\"response_dttm\"]\n",
    "    \n",
    "    # Lat/Long\n",
    "    df[\"lat\"] = [i[\"coordinates\"][0] for i in df[\"location\"]]\n",
    "    df[\"long\"] = [i[\"coordinates\"][1] for i in df[\"location\"]]\n",
    "    \n",
    "    return df"
   ]
  },
  {
   "cell_type": "code",
   "execution_count": 52,
   "metadata": {},
   "outputs": [],
   "source": [
    "def get_clean_query(SoQL_query_timeframe,\n",
    "                    date_and_time_col_list,\n",
    "                    desired_year_list,\n",
    "                    lodate=0,\n",
    "                    hidate=0):\n",
    "    \"\"\"\n",
    "    Queries data from API of the San Francisco government website, using a specified timeframe.\n",
    "    Cleans the data, and returns the clean dataframe. Also returns a date-subsetted dataframe\n",
    "    depending on user choice.\n",
    "    \n",
    "    Args: 'SoQL_query_timeframe' (a SQL-like query using SocrataQL),\n",
    "          'date_and_time_col_list' (the list of complicated datetime column names),\n",
    "          'lodate' (optional field, subsets by lowest date)\n",
    "          'hidate' (optional field, subsets by highest date)\n",
    "    Returns:\n",
    "    \"\"\"\n",
    "    # Query according the timeframe that user specifies\n",
    "    df_query = api_query(SoQL_query_timeframe)\n",
    "    # Clean all datatypes, add columns, etc.\n",
    "    clean_df = clean_my_data(df=df_query,\n",
    "                             col_list=date_and_time_col_list,\n",
    "                             year_list=desired_year_list)\n",
    "    \n",
    "    # Subset df by date if desired\n",
    "    if (lodate == 0) & (hidate == 0):\n",
    "        date_subset_df = \"Not Specified\"\n",
    "    else:\n",
    "        if lodate != 0:\n",
    "            date_subset_df = clean_df[clean_df[\"watch_date\"] >= lodate]\n",
    "        if hidate !=0:\n",
    "            date_subset_df = clean_df[clean_df[\"watch_date\"] <= hidate]\n",
    "    \n",
    "    \n",
    "    # Return the original df (all dates) and the date subsetted df\n",
    "    return clean_df, date_subset_df"
   ]
  },
  {
   "cell_type": "markdown",
   "metadata": {},
   "source": [
    "### Variable Dictionary\n",
    "__Source:__ https://stackoverflow.com/questions/35077507/how-to-right-align-and-justify-align-in-markdown\n",
    "\n",
    "__Note:__ Markdown does not support text left-alignment, but HTML does!\n",
    "\n",
    "|Variable | Description\n",
    "|:---: | :---\n",
    "|Call Number | A unique 9-digit number assigned by the 911 Dispatch Center (DEM) to this call. These number are used for both Police and Fire calls.\n",
    "|Unit ID | N/A |\n",
    "|Incident Number | A unique 8-digit number assigned by DEM to this Fire incident.\n",
    "|Call Type | Call Type\n",
    "|Call Date | Date the call is received at the 911 Dispatch Center. Used for reporting purposes.\n",
    "|Watch Date | Watch date when the call is received. Watch date starts at 0800 each morning and ends at 0800 the next day.\n",
    "|Received DtTm | Date and time of call is received at the 911 Dispatch Center.\n",
    "|Entry DtTm | Date and time the 911 operator submits the entry of the initical call information into the CAD system.\n",
    "|Dispatch DtTm | Date and time the 911 operator dispatches this unit to the call.\n",
    "|Response DtTm | Date and time this unit acknowledges the dispatch and records that the unit is en route to the location of the call.\n",
    "|On Scene DtTm | Date and time the unit records arriving to the location of the incident.\n",
    "|Transport DtTm | If this unit is an ambulance, date and time the unit begins the transport unit arrives to hospital.\n",
    "|Hospital DtTm | If this unit is an ambulance, date and time the unit arrives to the hospital.\n",
    "|Call Final Disposition | Disposition of the call (Code). For example TH2: Transport to Hospital  Code 2, FIR: Resolved by Fire Department.\n",
    "|Available DtTm | Date and time this unit is not longer assigned to this call and it is available for another dispatch.\n",
    "|Address | Address of incident (note: address and location generalized to mid block of street, intersection or nearest call box location, to protect caller privacy). \n",
    "|City | City of incident.\n",
    "|Zipcode of Incident | Zipcode of incident.\n",
    "|Battalion | Emergency Response District (There are 9 Fire Emergency Response Districts).\n",
    "|Station Area | Fire Station First Response Area associated with the address of the incident .\n",
    "|Box | Fire box associated with the address of the incident. A box is the smallest area used to divide the City. Each box is associated with a unique unit dispatch order. The City is divided into more than 2,400 boxes.\n",
    "|Original Priority | Initial call priority (Code 2: Non-Emergency or Code 3:Emergency).\n",
    "|Priority | Call priority (Code 2: Non-Emergency or Code 3:Emergency).\n",
    "|Final Priority | Final call priority (Code 2: Non-Emergency or Code 3:Emergency).\n",
    "|ALS Unit | Does this unit includes ALS (Advance Life Support) resources? Is there a paramedic in this unit?\n",
    "|Call Type Group | Call types are divided into four main groups: Fire, Alarm, Potential Life Threatening and Non Life Threatening.\n",
    "|Number of Alarms | Number of alarms associated with the incident. This is a number between 1 and 5.\n",
    "|Unit Type | Unit type.\n",
    "|Unit sequence in call dispatch | A number that indicates the order this unit was assigned to this call.\n",
    "|Fire Prevention District | Bureau of Fire Prevention District associated with this address.\n",
    "|Supervisor District | Supervisor District associated with this address (note: these are the districts created in 2012).\n",
    "|Neighborhooods | Analysis Boundaries - Neighborhood District associated with this address.\n",
    "|Location | Location of incident (note: address and location generalized to mid block of street, intersection or nearest call box location, to protect caller privacy).\n",
    "|RowID | Unique Call Number and Unit ID combination."
   ]
  },
  {
   "cell_type": "markdown",
   "metadata": {},
   "source": [
    "## Querying the Cleaned Data"
   ]
  },
  {
   "cell_type": "code",
   "execution_count": 53,
   "metadata": {},
   "outputs": [],
   "source": [
    "post_2015 = 'watch_date>=\"2015-01-01T00:00:00\"'\n",
    "date_column_list = [\"received_dttm\", \"entry_dttm\", \"dispatch_dttm\", \"response_dttm\",\n",
    "                    \"on_scene_dttm\", \"transport_dttm\", \"hospital_dttm\", \"available_dttm\"]\n",
    "my_year_list = [2015, 2016, 2017, 2018]\n",
    "low_date = \"2015-01-01\"\n",
    "high_date = \"2018-11-20\" # I chose any old random date"
   ]
  },
  {
   "cell_type": "code",
   "execution_count": 65,
   "metadata": {
    "scrolled": true
   },
   "outputs": [
    {
     "name": "stdout",
     "output_type": "stream",
     "text": [
      "Done querying!\n"
     ]
    }
   ],
   "source": [
    "df_2015, df1 = get_clean_query(SoQL_query_timeframe=post_2015,\n",
    "                               date_and_time_col_list=date_column_list,\n",
    "                               desired_year_list=my_year_list,\n",
    "                               lodate=low_date,\n",
    "                               hidate=high_date)\n",
    "\n",
    "print(\"Done querying!\")  # just for me"
   ]
  },
  {
   "cell_type": "markdown",
   "metadata": {},
   "source": [
    "## Data Exploration"
   ]
  },
  {
   "cell_type": "code",
   "execution_count": 66,
   "metadata": {},
   "outputs": [
    {
     "data": {
      "text/plain": [
       "address                                       object\n",
       "als_unit                                        bool\n",
       "available_dttm                        datetime64[ns]\n",
       "battalion                                     object\n",
       "box                                           object\n",
       "call_date                             datetime64[ns]\n",
       "call_final_disposition                        object\n",
       "call_number                                   object\n",
       "call_type                                     object\n",
       "call_type_group                               object\n",
       "city                                          object\n",
       "dispatch_dttm                         datetime64[ns]\n",
       "entry_dttm                            datetime64[ns]\n",
       "final_priority                                object\n",
       "fire_prevention_district                      object\n",
       "hospital_dttm                         datetime64[ns]\n",
       "incident_number                               object\n",
       "location                                      object\n",
       "neighborhoods_analysis_boundaries             object\n",
       "number_of_alarms                               int64\n",
       "on_scene_dttm                         datetime64[ns]\n",
       "original_priority                             object\n",
       "priority                                      object\n",
       "received_dttm                         datetime64[ns]\n",
       "response_dttm                         datetime64[ns]\n",
       "rowid                                         object\n",
       "station_area                                  object\n",
       "supervisor_district                           object\n",
       "transport_dttm                        datetime64[ns]\n",
       "unit_id                                       object\n",
       "unit_sequence_in_call_dispatch                 int64\n",
       "unit_type                                     object\n",
       "watch_date                            datetime64[ns]\n",
       "zipcode_of_incident                           object\n",
       "year                                           int64\n",
       "month                                          int64\n",
       "dotw                                          object\n",
       "hour                                           int64\n",
       "time_of_day                                   object\n",
       "season                                        object\n",
       "holiday                                       object\n",
       "total_resp_time                      timedelta64[ns]\n",
       "lat                                          float64\n",
       "long                                         float64\n",
       "dtype: object"
      ]
     },
     "execution_count": 66,
     "metadata": {},
     "output_type": "execute_result"
    }
   ],
   "source": [
    "df1.dtypes"
   ]
  },
  {
   "cell_type": "code",
   "execution_count": 58,
   "metadata": {},
   "outputs": [
    {
     "data": {
      "text/plain": [
       "hospital_dttm          859794\n",
       "transport_dttm         852352\n",
       "total_resp_time        237318\n",
       "on_scene_dttm          237318\n",
       "response_dttm           32153\n",
       "city                     2921\n",
       "station_area             2213\n",
       "zipcode_of_incident      1525\n",
       "call_type_group           848\n",
       "available_dttm            250\n",
       "original_priority          99\n",
       "box                        53\n",
       "dtype: int64"
      ]
     },
     "execution_count": 58,
     "metadata": {},
     "output_type": "execute_result"
    }
   ],
   "source": [
    "# This list makes a lot of sense, not every incident requires a hospital visit, transportation, etc.\n",
    "df1.isna().sum().sort_values(ascending=False).head(12)"
   ]
  },
  {
   "cell_type": "code",
   "execution_count": 67,
   "metadata": {},
   "outputs": [
    {
     "data": {
      "text/html": [
       "<div>\n",
       "<style scoped>\n",
       "    .dataframe tbody tr th:only-of-type {\n",
       "        vertical-align: middle;\n",
       "    }\n",
       "\n",
       "    .dataframe tbody tr th {\n",
       "        vertical-align: top;\n",
       "    }\n",
       "\n",
       "    .dataframe thead th {\n",
       "        text-align: right;\n",
       "    }\n",
       "</style>\n",
       "<table border=\"1\" class=\"dataframe\">\n",
       "  <thead>\n",
       "    <tr style=\"text-align: right;\">\n",
       "      <th></th>\n",
       "      <th>address</th>\n",
       "      <th>als_unit</th>\n",
       "      <th>available_dttm</th>\n",
       "      <th>battalion</th>\n",
       "      <th>box</th>\n",
       "      <th>call_date</th>\n",
       "      <th>call_final_disposition</th>\n",
       "      <th>call_number</th>\n",
       "      <th>call_type</th>\n",
       "      <th>call_type_group</th>\n",
       "      <th>city</th>\n",
       "      <th>dispatch_dttm</th>\n",
       "      <th>entry_dttm</th>\n",
       "      <th>final_priority</th>\n",
       "      <th>fire_prevention_district</th>\n",
       "      <th>hospital_dttm</th>\n",
       "      <th>incident_number</th>\n",
       "      <th>location</th>\n",
       "      <th>neighborhoods_analysis_boundaries</th>\n",
       "      <th>number_of_alarms</th>\n",
       "      <th>on_scene_dttm</th>\n",
       "      <th>original_priority</th>\n",
       "      <th>priority</th>\n",
       "      <th>received_dttm</th>\n",
       "      <th>response_dttm</th>\n",
       "      <th>rowid</th>\n",
       "      <th>station_area</th>\n",
       "      <th>supervisor_district</th>\n",
       "      <th>transport_dttm</th>\n",
       "      <th>unit_id</th>\n",
       "      <th>unit_sequence_in_call_dispatch</th>\n",
       "      <th>unit_type</th>\n",
       "      <th>watch_date</th>\n",
       "      <th>zipcode_of_incident</th>\n",
       "      <th>year</th>\n",
       "      <th>month</th>\n",
       "      <th>dotw</th>\n",
       "      <th>hour</th>\n",
       "      <th>time_of_day</th>\n",
       "      <th>season</th>\n",
       "      <th>holiday</th>\n",
       "      <th>total_resp_time</th>\n",
       "      <th>lat</th>\n",
       "      <th>long</th>\n",
       "    </tr>\n",
       "  </thead>\n",
       "  <tbody>\n",
       "    <tr>\n",
       "      <th>1074170</th>\n",
       "      <td>0 Block of 6TH ST</td>\n",
       "      <td>True</td>\n",
       "      <td>2017-10-23 12:33:51</td>\n",
       "      <td>B02</td>\n",
       "      <td>2248</td>\n",
       "      <td>2017-10-23</td>\n",
       "      <td>Code 2 Transport</td>\n",
       "      <td>172961759</td>\n",
       "      <td>Medical Incident</td>\n",
       "      <td>Potentially Life-Threatening</td>\n",
       "      <td>San Francisco</td>\n",
       "      <td>2017-10-23 12:15:45</td>\n",
       "      <td>2017-10-23 12:15:34</td>\n",
       "      <td>3</td>\n",
       "      <td>3</td>\n",
       "      <td>NaT</td>\n",
       "      <td>17124473</td>\n",
       "      <td>{'type': 'Point', 'coordinates': [-122.4095183...</td>\n",
       "      <td>South of Market</td>\n",
       "      <td>1</td>\n",
       "      <td>2017-10-23 12:19:33</td>\n",
       "      <td>A</td>\n",
       "      <td>E</td>\n",
       "      <td>2017-10-23 12:15:34</td>\n",
       "      <td>2017-10-23 12:15:59</td>\n",
       "      <td>172961759-E01</td>\n",
       "      <td>01</td>\n",
       "      <td>6</td>\n",
       "      <td>NaT</td>\n",
       "      <td>E01</td>\n",
       "      <td>3</td>\n",
       "      <td>ENGINE</td>\n",
       "      <td>2017-10-23</td>\n",
       "      <td>94103</td>\n",
       "      <td>2017</td>\n",
       "      <td>10</td>\n",
       "      <td>Monday</td>\n",
       "      <td>12</td>\n",
       "      <td>afternoon</td>\n",
       "      <td>Fall</td>\n",
       "      <td>Not a Holiday</td>\n",
       "      <td>00:03:34</td>\n",
       "      <td>-122.409518</td>\n",
       "      <td>37.781537</td>\n",
       "    </tr>\n",
       "  </tbody>\n",
       "</table>\n",
       "</div>"
      ],
      "text/plain": [
       "                   address  als_unit      available_dttm battalion   box  \\\n",
       "1074170  0 Block of 6TH ST      True 2017-10-23 12:33:51       B02  2248   \n",
       "\n",
       "         call_date call_final_disposition call_number         call_type  \\\n",
       "1074170 2017-10-23       Code 2 Transport   172961759  Medical Incident   \n",
       "\n",
       "                      call_type_group           city       dispatch_dttm  \\\n",
       "1074170  Potentially Life-Threatening  San Francisco 2017-10-23 12:15:45   \n",
       "\n",
       "                 entry_dttm final_priority fire_prevention_district  \\\n",
       "1074170 2017-10-23 12:15:34              3                        3   \n",
       "\n",
       "        hospital_dttm incident_number  \\\n",
       "1074170           NaT        17124473   \n",
       "\n",
       "                                                  location  \\\n",
       "1074170  {'type': 'Point', 'coordinates': [-122.4095183...   \n",
       "\n",
       "        neighborhoods_analysis_boundaries  number_of_alarms  \\\n",
       "1074170                   South of Market                 1   \n",
       "\n",
       "              on_scene_dttm original_priority priority       received_dttm  \\\n",
       "1074170 2017-10-23 12:19:33                 A        E 2017-10-23 12:15:34   \n",
       "\n",
       "              response_dttm          rowid station_area supervisor_district  \\\n",
       "1074170 2017-10-23 12:15:59  172961759-E01           01                   6   \n",
       "\n",
       "        transport_dttm unit_id  unit_sequence_in_call_dispatch unit_type  \\\n",
       "1074170            NaT     E01                               3    ENGINE   \n",
       "\n",
       "        watch_date zipcode_of_incident  year  month    dotw  hour time_of_day  \\\n",
       "1074170 2017-10-23               94103  2017     10  Monday    12   afternoon   \n",
       "\n",
       "        season        holiday total_resp_time         lat       long  \n",
       "1074170   Fall  Not a Holiday        00:03:34 -122.409518  37.781537  "
      ]
     },
     "execution_count": 67,
     "metadata": {},
     "output_type": "execute_result"
    }
   ],
   "source": [
    "df1.sample()"
   ]
  },
  {
   "cell_type": "code",
   "execution_count": 21,
   "metadata": {},
   "outputs": [],
   "source": [
    "# Response Time Calculation -- GRAPH IT\n",
    "# Source?: https://stackoverflow.com/questions/4090383/plotting-unix-timestamps-in-matplotlib"
   ]
  },
  {
   "cell_type": "code",
   "execution_count": 68,
   "metadata": {},
   "outputs": [
    {
     "data": {
      "text/plain": [
       "array(['Not a Holiday', \"New Year's Day\", 'Martin Luther King, Jr. Day',\n",
       "       'César Chávez Day', 'Labor Day', 'Susan B. Anthony Day',\n",
       "       \"Washington's Birthday\", 'Memorial Day', 'Independence Day',\n",
       "       'Columbus Day', 'Veterans Day', 'Veterans Day (Observed)',\n",
       "       'Independence Day (Observed)', 'Christmas Day', 'Thanksgiving',\n",
       "       \"New Year's Day (Observed)\",\n",
       "       \"Washington's Birthday, Susan B. Anthony Day\",\n",
       "       'Christmas Day (Observed)'], dtype=object)"
      ]
     },
     "execution_count": 68,
     "metadata": {},
     "output_type": "execute_result"
    }
   ],
   "source": [
    "df1[\"holiday\"].unique()"
   ]
  },
  {
   "cell_type": "code",
   "execution_count": null,
   "metadata": {},
   "outputs": [],
   "source": []
  }
 ],
 "metadata": {
  "kernelspec": {
   "display_name": "Python 3",
   "language": "python",
   "name": "python3"
  },
  "language_info": {
   "codemirror_mode": {
    "name": "ipython",
    "version": 3
   },
   "file_extension": ".py",
   "mimetype": "text/x-python",
   "name": "python",
   "nbconvert_exporter": "python",
   "pygments_lexer": "ipython3",
   "version": "3.6.5"
  }
 },
 "nbformat": 4,
 "nbformat_minor": 2
}
