{
 "cells": [
  {
   "cell_type": "markdown",
   "metadata": {},
   "source": [
    "# Final Project: San Francisco Fire Department Service Calls"
   ]
  },
  {
   "cell_type": "markdown",
   "metadata": {},
   "source": [
    "### By: Jared Yu, Tiffany Chen, Emily Watkins"
   ]
  },
  {
   "cell_type": "code",
   "execution_count": 1,
   "metadata": {},
   "outputs": [],
   "source": [
    "import datetime as dt\n",
    "import holidays\n",
    "import pandas as pd\n",
    "from sodapy import Socrata"
   ]
  },
  {
   "cell_type": "code",
   "execution_count": 2,
   "metadata": {},
   "outputs": [],
   "source": [
    "pd.set_option(\"display.max_columns\", 100)\n",
    "pd.set_option(\"display.expand_frame_repr\", True)"
   ]
  },
  {
   "cell_type": "code",
   "execution_count": 3,
   "metadata": {},
   "outputs": [],
   "source": [
    "def api_query(SoQL_query):\n",
    "    \"\"\"\n",
    "    https://dev.socrata.com/foundry/data.sfgov.org/enhu-st7v\n",
    "    The function is created from code given to query data off the\n",
    "    API of the government website. Personal login information\n",
    "    is used to access the API. Additionally, a SoQL query is\n",
    "    used as an input to determine how the data should be accessed.\n",
    "    \n",
    "    Args: SoQL_query, a SQL-like query using SocrataQL\n",
    "    Return: queried dataset in dataframe format\n",
    "    \"\"\"\n",
    "    client = Socrata(domain=\"data.sfgov.org\",\n",
    "                     app_token=\"LatHs7KifDEpxpxnlKMb9SFfy\",\n",
    "                     username=\"qzyu999@gmail.com\",\n",
    "                     password=\"SFData999\")\n",
    "\n",
    "    result_list = client.get(\"enhu-st7v\", limit=5000000, where=SoQL_query)\n",
    "\n",
    "    return(pd.DataFrame.from_records(result_list))"
   ]
  },
  {
   "cell_type": "code",
   "execution_count": 4,
   "metadata": {},
   "outputs": [],
   "source": [
    "def get_time_of_day(hour):\n",
    "    \"\"\"\n",
    "    Takes in an int that indicates hour (0-24), and uses that to determine time of day (e.g. 7 is \"morning\").\n",
    "    \n",
    "    Args: 'hour' (hour of day, int)\n",
    "    Return: 'tod' (time of day, string)\n",
    "    \"\"\"\n",
    "    # By Hour Logic: 0-4 night; 5-11 morning; 12-16 afternoon; 17-19 evening; 20-24 night\n",
    "    if hour in range(5, 11+1):\n",
    "        tod = \"morning\"\n",
    "    elif hour in range(12, 16+1):\n",
    "        tod = \"afternoon\"\n",
    "    elif hour in range(17, 19+1):\n",
    "        tod = \"evening\"\n",
    "    else:\n",
    "        tod = \"night\"\n",
    "    \n",
    "    return tod"
   ]
  },
  {
   "cell_type": "code",
   "execution_count": 5,
   "metadata": {},
   "outputs": [],
   "source": [
    "def get_season(month):\n",
    "    \"\"\"\n",
    "    Takes in an int that indicates the month (1-12), and uses that to determine season (e.g. \"winter\").\n",
    "    \n",
    "    Args: 'month' (month of year, int)\n",
    "    Return: 'season' (season of year, string)\n",
    "    \"\"\"\n",
    "    # Source: https://www.timeanddate.com/calendar/aboutseasons.html\n",
    "    # Meteorological Season Definition (e.g. Spring is March 1 - May 31)\n",
    "    if month in range(3, 5+1):\n",
    "        season = \"Spring\"\n",
    "    elif month in range(6, 8+1):\n",
    "        season = \"Summer\"\n",
    "    elif month in range(9, 11+1):\n",
    "        season = \"Fall\"\n",
    "    else:\n",
    "        season = \"Winter\"\n",
    "    \n",
    "    return season"
   ]
  },
  {
   "cell_type": "code",
   "execution_count": 1,
   "metadata": {},
   "outputs": [],
   "source": [
    "def clean_my_data(df, col_list):\n",
    "    \"\"\"\n",
    "    Takes in the dataframe that needs to be cleaned. Also takes in the list of column names of\n",
    "    complicated and long dates, for proper date conversion.\n",
    "    \n",
    "    Args: 'df' (the dataframe to be cleaned)\n",
    "          'col_list' (the list of complicated datetime column names)\n",
    "    Return: 'df' (the dataframe already cleaned)\n",
    "    \"\"\"\n",
    "    # Simple data type conversions to int\n",
    "    df[\"number_of_alarms\"] = df[\"number_of_alarms\"].astype(int)\n",
    "    df[\"unit_sequence_in_call_dispatch\"] = df[\"unit_sequence_in_call_dispatch\"].astype(int)\n",
    "    \n",
    "    # Simple datetime conversions\n",
    "    df[\"call_date\"] = pd.to_datetime(df[\"call_date\"], format=\"%Y-%m-%d\")\n",
    "    df[\"watch_date\"] = pd.to_datetime(df[\"watch_date\"], format=\"%Y-%m-%d\")\n",
    "    \n",
    "    # For every value in the provided COMPLICATED datetime column list, change data types to datetimes\n",
    "    for val in col_list:\n",
    "        df[val] = pd.to_datetime(df[val], format=\"%Y-%m-%dT%H:%M:%S.%f\")\n",
    "        \n",
    "    # Day of The Week, Time of Day, and Season columns\n",
    "    # Source: https://stackoverflow.com/questions/25146121/extracting-just-month-and-year-from-pandas-datetime-column-python\n",
    "    df[\"year\"] = pd.DatetimeIndex(df[\"call_date\"]).year\n",
    "    df[\"month\"] = pd.DatetimeIndex(df[\"call_date\"]).month\n",
    "    df[\"dotw\"] = df[\"call_date\"].dt.day_name()\n",
    "    df[\"hour\"] = pd.DatetimeIndex(df[\"received_dttm\"]).hour\n",
    "    df[\"time_of_day\"] = df[\"hour\"].apply(lambda row: get_time_of_day(row))\n",
    "    df[\"season\"] = df[\"month\"].apply(lambda row: get_season(row))\n",
    "    \n",
    "    # Holidays\n",
    "    # Source: https://pypi.org/project/holidays/\n",
    "    us_holidays = holidays.US()\n",
    "    \n",
    "    \n",
    "    # Response Time (On-Scene timestamp minus Full Response Acknowledge timestamp)\n",
    "    df[\"total_resp_time\"] = df[\"on_scene_dttm\"] - df[\"response_dttm\"]\n",
    "    \n",
    "    # Lat/Long\n",
    "    df[\"lat\"] = [i[\"coordinates\"][0] for i in df[\"location\"]]\n",
    "    df[\"long\"] = [i[\"coordinates\"][1] for i in df[\"location\"]]\n",
    "    \n",
    "    return df"
   ]
  },
  {
   "cell_type": "code",
   "execution_count": 7,
   "metadata": {},
   "outputs": [],
   "source": [
    "def get_clean_query(SoQL_query_timeframe,\n",
    "                    date_and_time_col_list,\n",
    "                    lodate=0,\n",
    "                    hidate=0):\n",
    "    \"\"\"\n",
    "    Queries data from API of the San Francisco government website, using a specified timeframe.\n",
    "    Cleans the data, and returns the clean dataframe. Also returns a date-subsetted dataframe\n",
    "    depending on user choice.\n",
    "    \n",
    "    Args: 'SoQL_query_timeframe' (a SQL-like query using SocrataQL),\n",
    "          'date_and_time_col_list' (the list of complicated datetime column names),\n",
    "          'lodate' (optional field, subsets by lowest date)\n",
    "          'hidate' (optional field, subsets by highest date)\n",
    "    Returns:\n",
    "    \"\"\"\n",
    "    # Query according the timeframe that user specifies\n",
    "    df_query = api_query(SoQL_query_timeframe)\n",
    "    # Clean all datatypes, add columns, etc.\n",
    "    clean_df = clean_my_data(df=df_query, col_list=date_and_time_col_list)\n",
    "    \n",
    "    # Subset df by date if desired\n",
    "    if (lodate == 0) & (hidate == 0):\n",
    "        date_subset_df = \"Not Specified\"\n",
    "    else:\n",
    "        if lodate != 0:\n",
    "            date_subset_df = clean_df[clean_df[\"watch_date\"] >= lodate]\n",
    "        if hidate !=0:\n",
    "            date_subset_df = clean_df[clean_df[\"watch_date\"] <= hidate]\n",
    "    \n",
    "    \n",
    "    # Return the original df (all dates) and the date subsetted df\n",
    "    return clean_df, date_subset_df"
   ]
  },
  {
   "cell_type": "markdown",
   "metadata": {},
   "source": [
    "### Variable Dictionary\n",
    "__Source:__ https://stackoverflow.com/questions/35077507/how-to-right-align-and-justify-align-in-markdown\n",
    "\n",
    "__Note:__ Markdown does not support text left-alignment, but HTML does!\n",
    "\n",
    "|Variable | Description\n",
    "|:---: | :---\n",
    "|Call Number | A unique 9-digit number assigned by the 911 Dispatch Center (DEM) to this call. These number are used for both Police and Fire calls.\n",
    "|Unit ID | N/A |\n",
    "|Incident Number | A unique 8-digit number assigned by DEM to this Fire incident.\n",
    "|Call Type | Call Type\n",
    "|Call Date | Date the call is received at the 911 Dispatch Center. Used for reporting purposes.\n",
    "|Watch Date | Watch date when the call is received. Watch date starts at 0800 each morning and ends at 0800 the next day.\n",
    "|Received DtTm | Date and time of call is received at the 911 Dispatch Center.\n",
    "|Entry DtTm | Date and time the 911 operator submits the entry of the initical call information into the CAD system.\n",
    "|Dispatch DtTm | Date and time the 911 operator dispatches this unit to the call.\n",
    "|Response DtTm | Date and time this unit acknowledges the dispatch and records that the unit is en route to the location of the call.\n",
    "|On Scene DtTm | Date and time the unit records arriving to the location of the incident.\n",
    "|Transport DtTm | If this unit is an ambulance, date and time the unit begins the transport unit arrives to hospital.\n",
    "|Hospital DtTm | If this unit is an ambulance, date and time the unit arrives to the hospital.\n",
    "|Call Final Disposition | Disposition of the call (Code). For example TH2: Transport to Hospital  Code 2, FIR: Resolved by Fire Department.\n",
    "|Available DtTm | Date and time this unit is not longer assigned to this call and it is available for another dispatch.\n",
    "|Address | Address of incident (note: address and location generalized to mid block of street, intersection or nearest call box location, to protect caller privacy). \n",
    "|City | City of incident.\n",
    "|Zipcode of Incident | Zipcode of incident.\n",
    "|Battalion | Emergency Response District (There are 9 Fire Emergency Response Districts).\n",
    "|Station Area | Fire Station First Response Area associated with the address of the incident .\n",
    "|Box | Fire box associated with the address of the incident. A box is the smallest area used to divide the City. Each box is associated with a unique unit dispatch order. The City is divided into more than 2,400 boxes.\n",
    "|Original Priority | Initial call priority (Code 2: Non-Emergency or Code 3:Emergency).\n",
    "|Priority | Call priority (Code 2: Non-Emergency or Code 3:Emergency).\n",
    "|Final Priority | Final call priority (Code 2: Non-Emergency or Code 3:Emergency).\n",
    "|ALS Unit | Does this unit includes ALS (Advance Life Support) resources? Is there a paramedic in this unit?\n",
    "|Call Type Group | Call types are divided into four main groups: Fire, Alarm, Potential Life Threatening and Non Life Threatening.\n",
    "|Number of Alarms | Number of alarms associated with the incident. This is a number between 1 and 5.\n",
    "|Unit Type | Unit type.\n",
    "|Unit sequence in call dispatch | A number that indicates the order this unit was assigned to this call.\n",
    "|Fire Prevention District | Bureau of Fire Prevention District associated with this address.\n",
    "|Supervisor District | Supervisor District associated with this address (note: these are the districts created in 2012).\n",
    "|Neighborhooods | Analysis Boundaries - Neighborhood District associated with this address.\n",
    "|Location | Location of incident (note: address and location generalized to mid block of street, intersection or nearest call box location, to protect caller privacy).\n",
    "|RowID | Unique Call Number and Unit ID combination."
   ]
  },
  {
   "cell_type": "markdown",
   "metadata": {},
   "source": [
    "### Querying the Data"
   ]
  },
  {
   "cell_type": "code",
   "execution_count": 8,
   "metadata": {},
   "outputs": [],
   "source": [
    "post_2015 = 'watch_date>=\"2015-01-01T00:00:00\"'\n",
    "date_column_list = [\"received_dttm\", \"entry_dttm\", \"dispatch_dttm\", \"response_dttm\",\n",
    "                    \"on_scene_dttm\", \"transport_dttm\", \"hospital_dttm\", \"available_dttm\"]\n",
    "low_date = \"2015-01-01\"\n",
    "high_date = \"2018-11-20\" # I chose any old random date"
   ]
  },
  {
   "cell_type": "code",
   "execution_count": 9,
   "metadata": {
    "scrolled": true
   },
   "outputs": [
    {
     "ename": "MemoryError",
     "evalue": "",
     "output_type": "error",
     "traceback": [
      "\u001b[1;31m---------------------------------------------------------------------------\u001b[0m",
      "\u001b[1;31mMemoryError\u001b[0m                               Traceback (most recent call last)",
      "\u001b[1;32m<ipython-input-9-ac33351575a1>\u001b[0m in \u001b[0;36m<module>\u001b[1;34m()\u001b[0m\n\u001b[0;32m      2\u001b[0m                                \u001b[0mdate_and_time_col_list\u001b[0m\u001b[1;33m=\u001b[0m\u001b[0mdate_column_list\u001b[0m\u001b[1;33m,\u001b[0m\u001b[1;33m\u001b[0m\u001b[0m\n\u001b[0;32m      3\u001b[0m                                \u001b[0mlodate\u001b[0m\u001b[1;33m=\u001b[0m\u001b[0mlow_date\u001b[0m\u001b[1;33m,\u001b[0m\u001b[1;33m\u001b[0m\u001b[0m\n\u001b[1;32m----> 4\u001b[1;33m                                hidate=high_date)\n\u001b[0m\u001b[0;32m      5\u001b[0m \u001b[1;33m\u001b[0m\u001b[0m\n\u001b[0;32m      6\u001b[0m \u001b[0mprint\u001b[0m\u001b[1;33m(\u001b[0m\u001b[1;34m\"Done querying!\"\u001b[0m\u001b[1;33m)\u001b[0m  \u001b[1;31m# just for me\u001b[0m\u001b[1;33m\u001b[0m\u001b[0m\n",
      "\u001b[1;32m<ipython-input-7-979cfbe37a8c>\u001b[0m in \u001b[0;36mget_clean_query\u001b[1;34m(SoQL_query_timeframe, date_and_time_col_list, lodate, hidate)\u001b[0m\n\u001b[0;32m     15\u001b[0m     \"\"\"\n\u001b[0;32m     16\u001b[0m     \u001b[1;31m# Query according the timeframe that user specifies\u001b[0m\u001b[1;33m\u001b[0m\u001b[1;33m\u001b[0m\u001b[0m\n\u001b[1;32m---> 17\u001b[1;33m     \u001b[0mdf_query\u001b[0m \u001b[1;33m=\u001b[0m \u001b[0mapi_query\u001b[0m\u001b[1;33m(\u001b[0m\u001b[0mSoQL_query_timeframe\u001b[0m\u001b[1;33m)\u001b[0m\u001b[1;33m\u001b[0m\u001b[0m\n\u001b[0m\u001b[0;32m     18\u001b[0m     \u001b[1;31m# Clean all datatypes, add columns, etc.\u001b[0m\u001b[1;33m\u001b[0m\u001b[1;33m\u001b[0m\u001b[0m\n\u001b[0;32m     19\u001b[0m     \u001b[0mclean_df\u001b[0m \u001b[1;33m=\u001b[0m \u001b[0mclean_my_data\u001b[0m\u001b[1;33m(\u001b[0m\u001b[0mdf\u001b[0m\u001b[1;33m=\u001b[0m\u001b[0mdf_query\u001b[0m\u001b[1;33m,\u001b[0m \u001b[0mcol_list\u001b[0m\u001b[1;33m=\u001b[0m\u001b[0mdate_and_time_col_list\u001b[0m\u001b[1;33m)\u001b[0m\u001b[1;33m\u001b[0m\u001b[0m\n",
      "\u001b[1;32m<ipython-input-3-76fe5356b413>\u001b[0m in \u001b[0;36mapi_query\u001b[1;34m(SoQL_query)\u001b[0m\n\u001b[0;32m     15\u001b[0m                      password=\"SFData999\")\n\u001b[0;32m     16\u001b[0m \u001b[1;33m\u001b[0m\u001b[0m\n\u001b[1;32m---> 17\u001b[1;33m     \u001b[0mresult_list\u001b[0m \u001b[1;33m=\u001b[0m \u001b[0mclient\u001b[0m\u001b[1;33m.\u001b[0m\u001b[0mget\u001b[0m\u001b[1;33m(\u001b[0m\u001b[1;34m\"enhu-st7v\"\u001b[0m\u001b[1;33m,\u001b[0m \u001b[0mlimit\u001b[0m\u001b[1;33m=\u001b[0m\u001b[1;36m5000000\u001b[0m\u001b[1;33m,\u001b[0m \u001b[0mwhere\u001b[0m\u001b[1;33m=\u001b[0m\u001b[0mSoQL_query\u001b[0m\u001b[1;33m)\u001b[0m\u001b[1;33m\u001b[0m\u001b[0m\n\u001b[0m\u001b[0;32m     18\u001b[0m \u001b[1;33m\u001b[0m\u001b[0m\n\u001b[0;32m     19\u001b[0m     \u001b[1;32mreturn\u001b[0m\u001b[1;33m(\u001b[0m\u001b[0mpd\u001b[0m\u001b[1;33m.\u001b[0m\u001b[0mDataFrame\u001b[0m\u001b[1;33m.\u001b[0m\u001b[0mfrom_records\u001b[0m\u001b[1;33m(\u001b[0m\u001b[0mresult_list\u001b[0m\u001b[1;33m)\u001b[0m\u001b[1;33m)\u001b[0m\u001b[1;33m\u001b[0m\u001b[0m\n",
      "\u001b[1;32m~\\AppData\\Local\\Programs\\Python\\Python37-32\\lib\\site-packages\\sodapy\\__init__.py\u001b[0m in \u001b[0;36mget\u001b[1;34m(self, dataset_identifier, content_type, **kwargs)\u001b[0m\n\u001b[0;32m    289\u001b[0m \u001b[1;33m\u001b[0m\u001b[0m\n\u001b[0;32m    290\u001b[0m         response = self._perform_request(\"get\", resource, headers=headers,\n\u001b[1;32m--> 291\u001b[1;33m                                          params=params)\n\u001b[0m\u001b[0;32m    292\u001b[0m         \u001b[1;32mreturn\u001b[0m \u001b[0mresponse\u001b[0m\u001b[1;33m\u001b[0m\u001b[0m\n\u001b[0;32m    293\u001b[0m \u001b[1;33m\u001b[0m\u001b[0m\n",
      "\u001b[1;32m~\\AppData\\Local\\Programs\\Python\\Python37-32\\lib\\site-packages\\sodapy\\__init__.py\u001b[0m in \u001b[0;36m_perform_request\u001b[1;34m(self, request_type, resource, **kwargs)\u001b[0m\n\u001b[0;32m    400\u001b[0m         \u001b[0mkwargs\u001b[0m\u001b[1;33m[\u001b[0m\u001b[1;34m\"timeout\"\u001b[0m\u001b[1;33m]\u001b[0m \u001b[1;33m=\u001b[0m \u001b[0mself\u001b[0m\u001b[1;33m.\u001b[0m\u001b[0mtimeout\u001b[0m\u001b[1;33m\u001b[0m\u001b[0m\n\u001b[0;32m    401\u001b[0m \u001b[1;33m\u001b[0m\u001b[0m\n\u001b[1;32m--> 402\u001b[1;33m         \u001b[0mresponse\u001b[0m \u001b[1;33m=\u001b[0m \u001b[0mgetattr\u001b[0m\u001b[1;33m(\u001b[0m\u001b[0mself\u001b[0m\u001b[1;33m.\u001b[0m\u001b[0msession\u001b[0m\u001b[1;33m,\u001b[0m \u001b[0mrequest_type\u001b[0m\u001b[1;33m)\u001b[0m\u001b[1;33m(\u001b[0m\u001b[0muri\u001b[0m\u001b[1;33m,\u001b[0m \u001b[1;33m**\u001b[0m\u001b[0mkwargs\u001b[0m\u001b[1;33m)\u001b[0m\u001b[1;33m\u001b[0m\u001b[0m\n\u001b[0m\u001b[0;32m    403\u001b[0m \u001b[1;33m\u001b[0m\u001b[0m\n\u001b[0;32m    404\u001b[0m         \u001b[1;31m# handle errors\u001b[0m\u001b[1;33m\u001b[0m\u001b[1;33m\u001b[0m\u001b[0m\n",
      "\u001b[1;32m~\\AppData\\Local\\Programs\\Python\\Python37-32\\lib\\site-packages\\requests\\sessions.py\u001b[0m in \u001b[0;36mget\u001b[1;34m(self, url, **kwargs)\u001b[0m\n\u001b[0;32m    544\u001b[0m \u001b[1;33m\u001b[0m\u001b[0m\n\u001b[0;32m    545\u001b[0m         \u001b[0mkwargs\u001b[0m\u001b[1;33m.\u001b[0m\u001b[0msetdefault\u001b[0m\u001b[1;33m(\u001b[0m\u001b[1;34m'allow_redirects'\u001b[0m\u001b[1;33m,\u001b[0m \u001b[1;32mTrue\u001b[0m\u001b[1;33m)\u001b[0m\u001b[1;33m\u001b[0m\u001b[0m\n\u001b[1;32m--> 546\u001b[1;33m         \u001b[1;32mreturn\u001b[0m \u001b[0mself\u001b[0m\u001b[1;33m.\u001b[0m\u001b[0mrequest\u001b[0m\u001b[1;33m(\u001b[0m\u001b[1;34m'GET'\u001b[0m\u001b[1;33m,\u001b[0m \u001b[0murl\u001b[0m\u001b[1;33m,\u001b[0m \u001b[1;33m**\u001b[0m\u001b[0mkwargs\u001b[0m\u001b[1;33m)\u001b[0m\u001b[1;33m\u001b[0m\u001b[0m\n\u001b[0m\u001b[0;32m    547\u001b[0m \u001b[1;33m\u001b[0m\u001b[0m\n\u001b[0;32m    548\u001b[0m     \u001b[1;32mdef\u001b[0m \u001b[0moptions\u001b[0m\u001b[1;33m(\u001b[0m\u001b[0mself\u001b[0m\u001b[1;33m,\u001b[0m \u001b[0murl\u001b[0m\u001b[1;33m,\u001b[0m \u001b[1;33m**\u001b[0m\u001b[0mkwargs\u001b[0m\u001b[1;33m)\u001b[0m\u001b[1;33m:\u001b[0m\u001b[1;33m\u001b[0m\u001b[0m\n",
      "\u001b[1;32m~\\AppData\\Local\\Programs\\Python\\Python37-32\\lib\\site-packages\\requests\\sessions.py\u001b[0m in \u001b[0;36mrequest\u001b[1;34m(self, method, url, params, data, headers, cookies, files, auth, timeout, allow_redirects, proxies, hooks, stream, verify, cert, json)\u001b[0m\n\u001b[0;32m    531\u001b[0m         }\n\u001b[0;32m    532\u001b[0m         \u001b[0msend_kwargs\u001b[0m\u001b[1;33m.\u001b[0m\u001b[0mupdate\u001b[0m\u001b[1;33m(\u001b[0m\u001b[0msettings\u001b[0m\u001b[1;33m)\u001b[0m\u001b[1;33m\u001b[0m\u001b[0m\n\u001b[1;32m--> 533\u001b[1;33m         \u001b[0mresp\u001b[0m \u001b[1;33m=\u001b[0m \u001b[0mself\u001b[0m\u001b[1;33m.\u001b[0m\u001b[0msend\u001b[0m\u001b[1;33m(\u001b[0m\u001b[0mprep\u001b[0m\u001b[1;33m,\u001b[0m \u001b[1;33m**\u001b[0m\u001b[0msend_kwargs\u001b[0m\u001b[1;33m)\u001b[0m\u001b[1;33m\u001b[0m\u001b[0m\n\u001b[0m\u001b[0;32m    534\u001b[0m \u001b[1;33m\u001b[0m\u001b[0m\n\u001b[0;32m    535\u001b[0m         \u001b[1;32mreturn\u001b[0m \u001b[0mresp\u001b[0m\u001b[1;33m\u001b[0m\u001b[0m\n",
      "\u001b[1;32m~\\AppData\\Local\\Programs\\Python\\Python37-32\\lib\\site-packages\\requests\\sessions.py\u001b[0m in \u001b[0;36msend\u001b[1;34m(self, request, **kwargs)\u001b[0m\n\u001b[0;32m    684\u001b[0m \u001b[1;33m\u001b[0m\u001b[0m\n\u001b[0;32m    685\u001b[0m         \u001b[1;32mif\u001b[0m \u001b[1;32mnot\u001b[0m \u001b[0mstream\u001b[0m\u001b[1;33m:\u001b[0m\u001b[1;33m\u001b[0m\u001b[0m\n\u001b[1;32m--> 686\u001b[1;33m             \u001b[0mr\u001b[0m\u001b[1;33m.\u001b[0m\u001b[0mcontent\u001b[0m\u001b[1;33m\u001b[0m\u001b[0m\n\u001b[0m\u001b[0;32m    687\u001b[0m \u001b[1;33m\u001b[0m\u001b[0m\n\u001b[0;32m    688\u001b[0m         \u001b[1;32mreturn\u001b[0m \u001b[0mr\u001b[0m\u001b[1;33m\u001b[0m\u001b[0m\n",
      "\u001b[1;32m~\\AppData\\Local\\Programs\\Python\\Python37-32\\lib\\site-packages\\requests\\models.py\u001b[0m in \u001b[0;36mcontent\u001b[1;34m(self)\u001b[0m\n\u001b[0;32m    826\u001b[0m                 \u001b[0mself\u001b[0m\u001b[1;33m.\u001b[0m\u001b[0m_content\u001b[0m \u001b[1;33m=\u001b[0m \u001b[1;32mNone\u001b[0m\u001b[1;33m\u001b[0m\u001b[0m\n\u001b[0;32m    827\u001b[0m             \u001b[1;32melse\u001b[0m\u001b[1;33m:\u001b[0m\u001b[1;33m\u001b[0m\u001b[0m\n\u001b[1;32m--> 828\u001b[1;33m                 \u001b[0mself\u001b[0m\u001b[1;33m.\u001b[0m\u001b[0m_content\u001b[0m \u001b[1;33m=\u001b[0m \u001b[1;34mb''\u001b[0m\u001b[1;33m.\u001b[0m\u001b[0mjoin\u001b[0m\u001b[1;33m(\u001b[0m\u001b[0mself\u001b[0m\u001b[1;33m.\u001b[0m\u001b[0miter_content\u001b[0m\u001b[1;33m(\u001b[0m\u001b[0mCONTENT_CHUNK_SIZE\u001b[0m\u001b[1;33m)\u001b[0m\u001b[1;33m)\u001b[0m \u001b[1;32mor\u001b[0m \u001b[1;34mb''\u001b[0m\u001b[1;33m\u001b[0m\u001b[0m\n\u001b[0m\u001b[0;32m    829\u001b[0m \u001b[1;33m\u001b[0m\u001b[0m\n\u001b[0;32m    830\u001b[0m         \u001b[0mself\u001b[0m\u001b[1;33m.\u001b[0m\u001b[0m_content_consumed\u001b[0m \u001b[1;33m=\u001b[0m \u001b[1;32mTrue\u001b[0m\u001b[1;33m\u001b[0m\u001b[0m\n",
      "\u001b[1;31mMemoryError\u001b[0m: "
     ]
    }
   ],
   "source": [
    "df_2015, df1 = get_clean_query(SoQL_query_timeframe=post_2015,\n",
    "                               date_and_time_col_list=date_column_list,\n",
    "                               lodate=low_date,\n",
    "                               hidate=high_date)\n",
    "\n",
    "print(\"Done querying!\")  # just for me"
   ]
  },
  {
   "cell_type": "code",
   "execution_count": 25,
   "metadata": {},
   "outputs": [
    {
     "data": {
      "text/plain": [
       "address                                       object\n",
       "als_unit                                        bool\n",
       "available_dttm                        datetime64[ns]\n",
       "battalion                                     object\n",
       "box                                           object\n",
       "call_date                             datetime64[ns]\n",
       "call_final_disposition                        object\n",
       "call_number                                   object\n",
       "call_type                                     object\n",
       "call_type_group                               object\n",
       "city                                          object\n",
       "dispatch_dttm                         datetime64[ns]\n",
       "entry_dttm                            datetime64[ns]\n",
       "final_priority                                object\n",
       "fire_prevention_district                      object\n",
       "hospital_dttm                         datetime64[ns]\n",
       "incident_number                               object\n",
       "location                                      object\n",
       "neighborhoods_analysis_boundaries             object\n",
       "number_of_alarms                               int64\n",
       "on_scene_dttm                         datetime64[ns]\n",
       "original_priority                             object\n",
       "priority                                      object\n",
       "received_dttm                         datetime64[ns]\n",
       "response_dttm                         datetime64[ns]\n",
       "rowid                                         object\n",
       "station_area                                  object\n",
       "supervisor_district                           object\n",
       "transport_dttm                        datetime64[ns]\n",
       "unit_id                                       object\n",
       "unit_sequence_in_call_dispatch                 int64\n",
       "unit_type                                     object\n",
       "watch_date                            datetime64[ns]\n",
       "zipcode_of_incident                           object\n",
       "year                                           int64\n",
       "month                                          int64\n",
       "dotw                                          object\n",
       "hour                                           int64\n",
       "time_of_day                                   object\n",
       "season                                        object\n",
       "total_resp_time                      timedelta64[ns]\n",
       "lat                                          float64\n",
       "long                                         float64\n",
       "dtype: object"
      ]
     },
     "execution_count": 25,
     "metadata": {},
     "output_type": "execute_result"
    }
   ],
   "source": [
    "df1.dtypes"
   ]
  },
  {
   "cell_type": "code",
   "execution_count": 11,
   "metadata": {},
   "outputs": [
    {
     "data": {
      "text/plain": [
       "hospital_dttm          859794\n",
       "transport_dttm         852352\n",
       "on_scene_dttm          237318\n",
       "response_dttm           32153\n",
       "city                     2921\n",
       "station_area             2213\n",
       "zipcode_of_incident      1525\n",
       "call_type_group           848\n",
       "available_dttm            250\n",
       "original_priority          99\n",
       "box                        53\n",
       "dtype: int64"
      ]
     },
     "execution_count": 11,
     "metadata": {},
     "output_type": "execute_result"
    }
   ],
   "source": [
    "# This list makes a lot of sense, not every incident requires a hospital visit, transportation, etc.\n",
    "# Unfortunately we are missing a lot of on-scene date times though???\n",
    "df1.isna().sum().sort_values(ascending=False).head(11)"
   ]
  },
  {
   "cell_type": "code",
   "execution_count": 27,
   "metadata": {},
   "outputs": [
    {
     "data": {
      "text/html": [
       "<div>\n",
       "<style scoped>\n",
       "    .dataframe tbody tr th:only-of-type {\n",
       "        vertical-align: middle;\n",
       "    }\n",
       "\n",
       "    .dataframe tbody tr th {\n",
       "        vertical-align: top;\n",
       "    }\n",
       "\n",
       "    .dataframe thead th {\n",
       "        text-align: right;\n",
       "    }\n",
       "</style>\n",
       "<table border=\"1\" class=\"dataframe\">\n",
       "  <thead>\n",
       "    <tr style=\"text-align: right;\">\n",
       "      <th></th>\n",
       "      <th>address</th>\n",
       "      <th>als_unit</th>\n",
       "      <th>available_dttm</th>\n",
       "      <th>battalion</th>\n",
       "      <th>box</th>\n",
       "      <th>call_date</th>\n",
       "      <th>call_final_disposition</th>\n",
       "      <th>call_number</th>\n",
       "      <th>call_type</th>\n",
       "      <th>call_type_group</th>\n",
       "      <th>city</th>\n",
       "      <th>dispatch_dttm</th>\n",
       "      <th>entry_dttm</th>\n",
       "      <th>final_priority</th>\n",
       "      <th>fire_prevention_district</th>\n",
       "      <th>hospital_dttm</th>\n",
       "      <th>incident_number</th>\n",
       "      <th>location</th>\n",
       "      <th>neighborhoods_analysis_boundaries</th>\n",
       "      <th>number_of_alarms</th>\n",
       "      <th>on_scene_dttm</th>\n",
       "      <th>original_priority</th>\n",
       "      <th>priority</th>\n",
       "      <th>received_dttm</th>\n",
       "      <th>response_dttm</th>\n",
       "      <th>rowid</th>\n",
       "      <th>station_area</th>\n",
       "      <th>supervisor_district</th>\n",
       "      <th>transport_dttm</th>\n",
       "      <th>unit_id</th>\n",
       "      <th>unit_sequence_in_call_dispatch</th>\n",
       "      <th>unit_type</th>\n",
       "      <th>watch_date</th>\n",
       "      <th>zipcode_of_incident</th>\n",
       "      <th>year</th>\n",
       "      <th>month</th>\n",
       "      <th>dotw</th>\n",
       "      <th>hour</th>\n",
       "      <th>time_of_day</th>\n",
       "      <th>season</th>\n",
       "      <th>total_resp_time</th>\n",
       "      <th>lat</th>\n",
       "      <th>long</th>\n",
       "    </tr>\n",
       "  </thead>\n",
       "  <tbody>\n",
       "    <tr>\n",
       "      <th>406533</th>\n",
       "      <td>900 Block of STOCKTON ST</td>\n",
       "      <td>True</td>\n",
       "      <td>2016-05-14 17:53:34</td>\n",
       "      <td>B01</td>\n",
       "      <td>1331</td>\n",
       "      <td>2016-05-14</td>\n",
       "      <td>Code 3 Transport</td>\n",
       "      <td>161352458</td>\n",
       "      <td>Medical Incident</td>\n",
       "      <td>Potentially Life-Threatening</td>\n",
       "      <td>San Francisco</td>\n",
       "      <td>2016-05-14 16:46:56</td>\n",
       "      <td>2016-05-14 16:46:34</td>\n",
       "      <td>3</td>\n",
       "      <td>1</td>\n",
       "      <td>NaT</td>\n",
       "      <td>16053409</td>\n",
       "      <td>{'type': 'Point', 'coordinates': [-122.4079228...</td>\n",
       "      <td>Chinatown</td>\n",
       "      <td>1</td>\n",
       "      <td>2016-05-14 16:50:22</td>\n",
       "      <td>3</td>\n",
       "      <td>E</td>\n",
       "      <td>2016-05-14 16:45:24</td>\n",
       "      <td>2016-05-14 16:48:29</td>\n",
       "      <td>161352458-E02</td>\n",
       "      <td>02</td>\n",
       "      <td>3</td>\n",
       "      <td>NaT</td>\n",
       "      <td>E02</td>\n",
       "      <td>1</td>\n",
       "      <td>ENGINE</td>\n",
       "      <td>2016-05-14</td>\n",
       "      <td>94108</td>\n",
       "      <td>2016</td>\n",
       "      <td>5</td>\n",
       "      <td>Saturday</td>\n",
       "      <td>16</td>\n",
       "      <td>afternoon</td>\n",
       "      <td>Spring</td>\n",
       "      <td>00:01:53</td>\n",
       "      <td>-122.407923</td>\n",
       "      <td>37.794509</td>\n",
       "    </tr>\n",
       "  </tbody>\n",
       "</table>\n",
       "</div>"
      ],
      "text/plain": [
       "                         address  als_unit      available_dttm battalion  \\\n",
       "406533  900 Block of STOCKTON ST      True 2016-05-14 17:53:34       B01   \n",
       "\n",
       "         box  call_date call_final_disposition call_number         call_type  \\\n",
       "406533  1331 2016-05-14       Code 3 Transport   161352458  Medical Incident   \n",
       "\n",
       "                     call_type_group           city       dispatch_dttm  \\\n",
       "406533  Potentially Life-Threatening  San Francisco 2016-05-14 16:46:56   \n",
       "\n",
       "                entry_dttm final_priority fire_prevention_district  \\\n",
       "406533 2016-05-14 16:46:34              3                        1   \n",
       "\n",
       "       hospital_dttm incident_number  \\\n",
       "406533           NaT        16053409   \n",
       "\n",
       "                                                 location  \\\n",
       "406533  {'type': 'Point', 'coordinates': [-122.4079228...   \n",
       "\n",
       "       neighborhoods_analysis_boundaries  number_of_alarms  \\\n",
       "406533                         Chinatown                 1   \n",
       "\n",
       "             on_scene_dttm original_priority priority       received_dttm  \\\n",
       "406533 2016-05-14 16:50:22                 3        E 2016-05-14 16:45:24   \n",
       "\n",
       "             response_dttm          rowid station_area supervisor_district  \\\n",
       "406533 2016-05-14 16:48:29  161352458-E02           02                   3   \n",
       "\n",
       "       transport_dttm unit_id  unit_sequence_in_call_dispatch unit_type  \\\n",
       "406533            NaT     E02                               1    ENGINE   \n",
       "\n",
       "       watch_date zipcode_of_incident  year  month      dotw  hour  \\\n",
       "406533 2016-05-14               94108  2016      5  Saturday    16   \n",
       "\n",
       "       time_of_day  season total_resp_time         lat       long  \n",
       "406533   afternoon  Spring        00:01:53 -122.407923  37.794509  "
      ]
     },
     "execution_count": 27,
     "metadata": {},
     "output_type": "execute_result"
    }
   ],
   "source": [
    "df1.sample()"
   ]
  },
  {
   "cell_type": "code",
   "execution_count": 21,
   "metadata": {},
   "outputs": [],
   "source": [
    "# Response Time Calculation -- GRAPH IT\n",
    "# Source?: https://stackoverflow.com/questions/4090383/plotting-unix-timestamps-in-matplotlib"
   ]
  },
  {
   "cell_type": "code",
   "execution_count": 2,
   "metadata": {},
   "outputs": [],
   "source": [
    "# Holiday Testing\n",
    "us_holidays = holidays.US()"
   ]
  },
  {
   "cell_type": "code",
   "execution_count": 5,
   "metadata": {},
   "outputs": [
    {
     "data": {
      "text/plain": [
       "True"
      ]
     },
     "execution_count": 5,
     "metadata": {},
     "output_type": "execute_result"
    }
   ],
   "source": [
    "dt.date(2014, 1, 1) in us_holidays"
   ]
  },
  {
   "cell_type": "markdown",
   "metadata": {},
   "source": [
    "# ASK SHARPNACK ABOUT EXCEPTIONS. I HAVEN'T REALLY USED THEM MUCH!!! IS THIS EVEN HOW EXCEPTIONS WORK?"
   ]
  },
  {
   "cell_type": "code",
   "execution_count": 9,
   "metadata": {},
   "outputs": [
    {
     "name": "stdout",
     "output_type": "stream",
     "text": [
      "2015-01-01 New Year's Day\n",
      "2015-01-19 Martin Luther King, Jr. Day\n",
      "2015-02-15 Susan B. Anthony Day\n",
      "2015-02-16 Washington's Birthday\n",
      "2015-03-31 César Chávez Day\n",
      "2015-05-25 Memorial Day\n",
      "2015-07-03 Independence Day (Observed)\n",
      "2015-07-04 Independence Day\n",
      "2015-09-07 Labor Day\n",
      "2015-10-12 Columbus Day\n",
      "2015-11-11 Veterans Day\n",
      "2015-11-26 Thanksgiving\n",
      "2015-12-25 Christmas Day\n",
      "2016-01-01 New Year's Day\n",
      "2016-01-18 Martin Luther King, Jr. Day\n",
      "2016-02-15 Washington's Birthday, Susan B. Anthony Day\n",
      "2016-03-31 César Chávez Day\n",
      "2016-05-30 Memorial Day\n",
      "2016-07-04 Independence Day\n",
      "2016-09-05 Labor Day\n",
      "2016-10-10 Columbus Day\n",
      "2016-11-11 Veterans Day\n",
      "2016-11-24 Thanksgiving\n",
      "2016-12-25 Christmas Day\n",
      "2016-12-26 Christmas Day (Observed)\n",
      "2017-01-01 New Year's Day\n",
      "2017-01-02 New Year's Day (Observed)\n",
      "2017-01-16 Martin Luther King, Jr. Day\n",
      "2017-02-15 Susan B. Anthony Day\n",
      "2017-02-20 Washington's Birthday\n",
      "2017-03-31 César Chávez Day\n",
      "2017-05-29 Memorial Day\n",
      "2017-07-04 Independence Day\n",
      "2017-09-04 Labor Day\n",
      "2017-10-09 Columbus Day\n",
      "2017-11-10 Veterans Day (Observed)\n",
      "2017-11-11 Veterans Day\n",
      "2017-11-23 Thanksgiving\n",
      "2017-12-25 Christmas Day\n",
      "2018-01-01 New Year's Day\n",
      "2018-01-15 Martin Luther King, Jr. Day\n",
      "2018-02-15 Susan B. Anthony Day\n",
      "2018-02-19 Washington's Birthday\n",
      "2018-03-31 César Chávez Day\n",
      "2018-05-28 Memorial Day\n",
      "2018-07-04 Independence Day\n",
      "2018-09-03 Labor Day\n",
      "2018-10-08 Columbus Day\n",
      "2018-11-11 Veterans Day\n",
      "2018-11-12 Veterans Day (Observed)\n",
      "2018-11-22 Thanksgiving\n",
      "2018-12-25 Christmas Day\n"
     ]
    }
   ],
   "source": [
    "def get_US_holidays(date, desired_state, year_list):\n",
    "    US_holiday_dict = holidays.US(state=desired_state, years=year_list)\n",
    "    \n",
    "    try:\n",
    "        holiday = US_holiday_dict[date]\n",
    "    except:\n",
    "        holiday = \"Not a Holiday\"\n",
    "        \n",
    "    return holiday"
   ]
  },
  {
   "cell_type": "code",
   "execution_count": 11,
   "metadata": {},
   "outputs": [],
   "source": [
    "year_list = [2015, 2016, 2017, 2018]\n",
    "desired_state = \"CA\""
   ]
  },
  {
   "cell_type": "code",
   "execution_count": 19,
   "metadata": {},
   "outputs": [
    {
     "data": {
      "text/plain": [
       "{datetime.date(2016, 1, 1): \"New Year's Day\",\n",
       " datetime.date(2016, 1, 18): 'Martin Luther King, Jr. Day',\n",
       " datetime.date(2016, 2, 15): \"Washington's Birthday, Susan B. Anthony Day\",\n",
       " datetime.date(2016, 3, 31): 'César Chávez Day',\n",
       " datetime.date(2016, 5, 30): 'Memorial Day',\n",
       " datetime.date(2016, 7, 4): 'Independence Day',\n",
       " datetime.date(2016, 9, 5): 'Labor Day',\n",
       " datetime.date(2016, 10, 10): 'Columbus Day',\n",
       " datetime.date(2016, 11, 11): 'Veterans Day',\n",
       " datetime.date(2016, 11, 24): 'Thanksgiving',\n",
       " datetime.date(2016, 12, 25): 'Christmas Day',\n",
       " datetime.date(2016, 12, 26): 'Christmas Day (Observed)',\n",
       " datetime.date(2017, 1, 1): \"New Year's Day\",\n",
       " datetime.date(2017, 1, 2): \"New Year's Day (Observed)\",\n",
       " datetime.date(2017, 1, 16): 'Martin Luther King, Jr. Day',\n",
       " datetime.date(2017, 2, 15): 'Susan B. Anthony Day',\n",
       " datetime.date(2017, 2, 20): \"Washington's Birthday\",\n",
       " datetime.date(2017, 3, 31): 'César Chávez Day',\n",
       " datetime.date(2017, 5, 29): 'Memorial Day',\n",
       " datetime.date(2017, 7, 4): 'Independence Day',\n",
       " datetime.date(2017, 9, 4): 'Labor Day',\n",
       " datetime.date(2017, 10, 9): 'Columbus Day',\n",
       " datetime.date(2017, 11, 11): 'Veterans Day',\n",
       " datetime.date(2017, 11, 10): 'Veterans Day (Observed)',\n",
       " datetime.date(2017, 11, 23): 'Thanksgiving',\n",
       " datetime.date(2017, 12, 25): 'Christmas Day',\n",
       " datetime.date(2018, 1, 1): \"New Year's Day\",\n",
       " datetime.date(2018, 1, 15): 'Martin Luther King, Jr. Day',\n",
       " datetime.date(2018, 2, 15): 'Susan B. Anthony Day',\n",
       " datetime.date(2018, 2, 19): \"Washington's Birthday\",\n",
       " datetime.date(2018, 3, 31): 'César Chávez Day',\n",
       " datetime.date(2018, 5, 28): 'Memorial Day',\n",
       " datetime.date(2018, 7, 4): 'Independence Day',\n",
       " datetime.date(2018, 9, 3): 'Labor Day',\n",
       " datetime.date(2018, 10, 8): 'Columbus Day',\n",
       " datetime.date(2018, 11, 11): 'Veterans Day',\n",
       " datetime.date(2018, 11, 12): 'Veterans Day (Observed)',\n",
       " datetime.date(2018, 11, 22): 'Thanksgiving',\n",
       " datetime.date(2018, 12, 25): 'Christmas Day',\n",
       " datetime.date(2015, 1, 1): \"New Year's Day\",\n",
       " datetime.date(2015, 1, 19): 'Martin Luther King, Jr. Day',\n",
       " datetime.date(2015, 2, 15): 'Susan B. Anthony Day',\n",
       " datetime.date(2015, 2, 16): \"Washington's Birthday\",\n",
       " datetime.date(2015, 3, 31): 'César Chávez Day',\n",
       " datetime.date(2015, 5, 25): 'Memorial Day',\n",
       " datetime.date(2015, 7, 4): 'Independence Day',\n",
       " datetime.date(2015, 7, 3): 'Independence Day (Observed)',\n",
       " datetime.date(2015, 9, 7): 'Labor Day',\n",
       " datetime.date(2015, 10, 12): 'Columbus Day',\n",
       " datetime.date(2015, 11, 11): 'Veterans Day',\n",
       " datetime.date(2015, 11, 26): 'Thanksgiving',\n",
       " datetime.date(2015, 12, 25): 'Christmas Day'}"
      ]
     },
     "execution_count": 19,
     "metadata": {},
     "output_type": "execute_result"
    }
   ],
   "source": [
    "US_holiday_dict = holidays.US(state=desired_state, years=year_list)\n",
    "US_holiday_dict"
   ]
  },
  {
   "cell_type": "code",
   "execution_count": 22,
   "metadata": {},
   "outputs": [
    {
     "data": {
      "text/plain": [
       "\"New Year's Day\""
      ]
     },
     "execution_count": 22,
     "metadata": {},
     "output_type": "execute_result"
    }
   ],
   "source": [
    "US_holiday_dict[dt.date(2016, 1, 1)]"
   ]
  },
  {
   "cell_type": "code",
   "execution_count": 23,
   "metadata": {},
   "outputs": [
    {
     "ename": "KeyError",
     "evalue": "datetime.date(2016, 1, 2)",
     "output_type": "error",
     "traceback": [
      "\u001b[1;31m---------------------------------------------------------------------------\u001b[0m",
      "\u001b[1;31mKeyError\u001b[0m                                  Traceback (most recent call last)",
      "\u001b[1;32m<ipython-input-23-67d52c94317d>\u001b[0m in \u001b[0;36m<module>\u001b[1;34m()\u001b[0m\n\u001b[1;32m----> 1\u001b[1;33m \u001b[0mUS_holiday_dict\u001b[0m\u001b[1;33m[\u001b[0m\u001b[0mdt\u001b[0m\u001b[1;33m.\u001b[0m\u001b[0mdate\u001b[0m\u001b[1;33m(\u001b[0m\u001b[1;36m2016\u001b[0m\u001b[1;33m,\u001b[0m \u001b[1;36m1\u001b[0m\u001b[1;33m,\u001b[0m \u001b[1;36m2\u001b[0m\u001b[1;33m)\u001b[0m\u001b[1;33m]\u001b[0m\u001b[1;33m\u001b[0m\u001b[0m\n\u001b[0m",
      "\u001b[1;32m~\\AppData\\Local\\Programs\\Python\\Python37-32\\lib\\site-packages\\holidays.py\u001b[0m in \u001b[0;36m__getitem__\u001b[1;34m(self, key)\u001b[0m\n\u001b[0;32m     84\u001b[0m \u001b[1;33m\u001b[0m\u001b[0m\n\u001b[0;32m     85\u001b[0m     \u001b[1;32mdef\u001b[0m \u001b[0m__getitem__\u001b[0m\u001b[1;33m(\u001b[0m\u001b[0mself\u001b[0m\u001b[1;33m,\u001b[0m \u001b[0mkey\u001b[0m\u001b[1;33m)\u001b[0m\u001b[1;33m:\u001b[0m\u001b[1;33m\u001b[0m\u001b[0m\n\u001b[1;32m---> 86\u001b[1;33m         \u001b[1;32mreturn\u001b[0m \u001b[0mdict\u001b[0m\u001b[1;33m.\u001b[0m\u001b[0m__getitem__\u001b[0m\u001b[1;33m(\u001b[0m\u001b[0mself\u001b[0m\u001b[1;33m,\u001b[0m \u001b[0mself\u001b[0m\u001b[1;33m.\u001b[0m\u001b[0m__keytransform__\u001b[0m\u001b[1;33m(\u001b[0m\u001b[0mkey\u001b[0m\u001b[1;33m)\u001b[0m\u001b[1;33m)\u001b[0m\u001b[1;33m\u001b[0m\u001b[0m\n\u001b[0m\u001b[0;32m     87\u001b[0m \u001b[1;33m\u001b[0m\u001b[0m\n\u001b[0;32m     88\u001b[0m     \u001b[1;32mdef\u001b[0m \u001b[0m__setitem__\u001b[0m\u001b[1;33m(\u001b[0m\u001b[0mself\u001b[0m\u001b[1;33m,\u001b[0m \u001b[0mkey\u001b[0m\u001b[1;33m,\u001b[0m \u001b[0mvalue\u001b[0m\u001b[1;33m)\u001b[0m\u001b[1;33m:\u001b[0m\u001b[1;33m\u001b[0m\u001b[0m\n",
      "\u001b[1;31mKeyError\u001b[0m: datetime.date(2016, 1, 2)"
     ]
    }
   ],
   "source": [
    "US_holiday_dict[dt.date(2016, 1, 2)]"
   ]
  },
  {
   "cell_type": "code",
   "execution_count": null,
   "metadata": {},
   "outputs": [],
   "source": []
  }
 ],
 "metadata": {
  "kernelspec": {
   "display_name": "Python 3",
   "language": "python",
   "name": "python3"
  },
  "language_info": {
   "codemirror_mode": {
    "name": "ipython",
    "version": 3
   },
   "file_extension": ".py",
   "mimetype": "text/x-python",
   "name": "python",
   "nbconvert_exporter": "python",
   "pygments_lexer": "ipython3",
   "version": "3.7.0"
  }
 },
 "nbformat": 4,
 "nbformat_minor": 2
}
