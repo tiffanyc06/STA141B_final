{
 "cells": [
  {
   "cell_type": "markdown",
   "metadata": {},
   "source": [
    "# Final Project: San Francisco Fire Department Service Calls"
   ]
  },
  {
   "cell_type": "code",
   "execution_count": 1,
   "metadata": {},
   "outputs": [],
   "source": [
    "import datetime as dt\n",
    "import os\n",
    "import pandas as pd\n",
    "from sodapy import Socrata"
   ]
  },
  {
   "cell_type": "code",
   "execution_count": 18,
   "metadata": {},
   "outputs": [],
   "source": [
    "def api_query(SoQL_query):\n",
    "    \"\"\"\n",
    "    https://dev.socrata.com/foundry/data.sfgov.org/enhu-st7v\n",
    "    The function is created from code given to query data off the\n",
    "    API of the government website. Personal login information\n",
    "    is used to access the API. Additionally, a SoQL query is\n",
    "    used as an input to determine how the data should be accessed.\n",
    "    \n",
    "    Args: SoQL_query, a SQL-like query using SocrataQL\n",
    "    Return: queried dataset in dataframe format\n",
    "    \"\"\"\n",
    "    client = Socrata(domain='data.sfgov.org', \n",
    "                     app_token='LatHs7KifDEpxpxnlKMb9SFfy', \n",
    "                     username=\"qzyu999@gmail.com\", \n",
    "                     password=\"SFData999\")\n",
    "\n",
    "    result_list = client.get(\"enhu-st7v\", limit=5000000, where=SoQL_query)\n",
    "\n",
    "    return(pd.DataFrame.from_records(result_list))"
   ]
  },
  {
   "cell_type": "code",
   "execution_count": 19,
   "metadata": {},
   "outputs": [],
   "source": [
    "def clean_my_data(df, col_list):\n",
    "    \"\"\"\n",
    "    Takes in the dataframe that needs to be cleaned. Also takes in the list of column names of\n",
    "    complicated and long dates, for proper date conversion.\n",
    "    \n",
    "    Args: 'df' (the dataframe to be cleaned)\n",
    "          'col_list' (the list of complicated datetime column names)\n",
    "    Return: 'df' (the dataframe already cleaned)\n",
    "    \"\"\"\n",
    "    # Simple data type conversions to int\n",
    "    df[\"number_of_alarms\"] = df[\"number_of_alarms\"].astype(int)\n",
    "    df[\"unit_sequence_in_call_dispatch\"] = df[\"unit_sequence_in_call_dispatch\"].astype(int)\n",
    "    \n",
    "    # Simple datetime conversions\n",
    "    df[\"call_date\"] = pd.to_datetime(df[\"call_date\"], format=\"%Y-%m-%d\")\n",
    "    df[\"watch_date\"] = pd.to_datetime(df[\"watch_date\"], format=\"%Y-%m-%d\")\n",
    "    \n",
    "    # For every value in the provided complicated datetime column list, change data types to datetimes\n",
    "    for val in col_list:\n",
    "        df[val] = pd.to_datetime(df[val], format=\"%Y-%m-%dT%H:%M:%S.%f\")\n",
    "        \n",
    "    # Day of the week columns\n",
    "    # Source: https://stackoverflow.com/questions/25146121/extracting-just-month-and-year-from-pandas-datetime-column-python\n",
    "    df[\"year\"] = pd.DatetimeIndex(df[\"call_date\"]).year\n",
    "    df[\"month\"] = pd.DatetimeIndex(df[\"call_date\"]).month\n",
    "    df[\"dotw\"] = df[\"call_date\"].dt.day_name()\n",
    "        \n",
    "    return df"
   ]
  },
  {
   "cell_type": "code",
   "execution_count": 27,
   "metadata": {},
   "outputs": [],
   "source": [
    "def get_clean_query(SoQL_query_timeframe,\n",
    "                    date_and_time_col_list,\n",
    "                    lodate=0,\n",
    "                    hidate=0):\n",
    "    \"\"\"\n",
    "    Queries data from API of the San Francisco government website, using a specified timeframe.\n",
    "    Cleans the data, and returns the clean dataframe. Also returns a date-subsetted dataframe\n",
    "    depending on user choice.\n",
    "    \n",
    "    Args: 'SoQL_query_timeframe' (a SQL-like query using SocrataQL),\n",
    "          'date_and_time_col_list' (the list of complicated datetime column names),\n",
    "          'lodate' (optional field, subsets by lowest date)\n",
    "          'hidate' (optional field, subsets by highest date)\n",
    "    Returns:\n",
    "    \"\"\"\n",
    "    # Query according the timeframe that user specifies\n",
    "    df_query = api_query(SoQL_query_timeframe)\n",
    "    # Clean all datatypes, add columns, etc.\n",
    "    clean_df = clean_my_data(df=df_query, col_list=date_and_time_col_list)\n",
    "    \n",
    "    # Subset df by date if desired\n",
    "    if lodate != 0:\n",
    "        date_subset_df = clean_df[clean_df[\"watch_date\"] >= lodate]\n",
    "    if hidate !=0:\n",
    "        date_subset_df = clena_df[clean_df[\"watch_date\"] <= hidate]\n",
    "    if (lodate == 0) & (hidate == 0):\n",
    "        date_subset_df = \"Not Specified\"\n",
    "    \n",
    "    # Return the original df (all dates) and the date subsetted df\n",
    "    return clean_df, date_subset_df"
   ]
  },
  {
   "cell_type": "code",
   "execution_count": 28,
   "metadata": {},
   "outputs": [],
   "source": [
    "post_2015 = 'watch_date>=\"2015-01-01T00:00:00\"'\n",
    "date_column_list = [\"received_dttm\", \"entry_dttm\", \"dispatch_dttm\", \"response_dttm\",\n",
    "                    \"on_scene_dttm\", \"transport_dttm\", \"hospital_dttm\", \"available_dttm\"]\n",
    "low_date = \"2015-01-01\"\n",
    "high_date = \"2018-11-20\""
   ]
  },
  {
   "cell_type": "code",
   "execution_count": 29,
   "metadata": {},
   "outputs": [],
   "source": [
    "df_2015, df1 = get_clean_query(SoQL_query_timeframe=post_2015,\n",
    "                               date_and_time_col_list=date_column_list,\n",
    "                               lodate=low_date,\n",
    "                               hidate=high_date)"
   ]
  },
  {
   "cell_type": "code",
   "execution_count": 30,
   "metadata": {},
   "outputs": [
    {
     "data": {
      "text/plain": [
       "address                                      object\n",
       "als_unit                                       bool\n",
       "available_dttm                       datetime64[ns]\n",
       "battalion                                    object\n",
       "box                                          object\n",
       "call_date                            datetime64[ns]\n",
       "call_final_disposition                       object\n",
       "call_number                                  object\n",
       "call_type                                    object\n",
       "call_type_group                              object\n",
       "city                                         object\n",
       "dispatch_dttm                        datetime64[ns]\n",
       "entry_dttm                           datetime64[ns]\n",
       "final_priority                               object\n",
       "fire_prevention_district                     object\n",
       "hospital_dttm                        datetime64[ns]\n",
       "incident_number                              object\n",
       "location                                     object\n",
       "neighborhoods_analysis_boundaries            object\n",
       "number_of_alarms                              int64\n",
       "on_scene_dttm                        datetime64[ns]\n",
       "original_priority                            object\n",
       "priority                                     object\n",
       "received_dttm                        datetime64[ns]\n",
       "response_dttm                        datetime64[ns]\n",
       "rowid                                        object\n",
       "station_area                                 object\n",
       "supervisor_district                          object\n",
       "transport_dttm                       datetime64[ns]\n",
       "unit_id                                      object\n",
       "unit_sequence_in_call_dispatch                int64\n",
       "unit_type                                    object\n",
       "watch_date                           datetime64[ns]\n",
       "zipcode_of_incident                          object\n",
       "year                                          int64\n",
       "month                                         int64\n",
       "dotw                                         object\n",
       "dtype: object"
      ]
     },
     "execution_count": 30,
     "metadata": {},
     "output_type": "execute_result"
    }
   ],
   "source": [
    "df1.dtypes"
   ]
  },
  {
   "cell_type": "code",
   "execution_count": 31,
   "metadata": {},
   "outputs": [
    {
     "data": {
      "text/plain": [
       "hospital_dttm                        861678\n",
       "transport_dttm                       854221\n",
       "on_scene_dttm                        237770\n",
       "response_dttm                         32222\n",
       "city                                   2924\n",
       "station_area                           2213\n",
       "zipcode_of_incident                    1532\n",
       "call_type_group                         848\n",
       "available_dttm                          251\n",
       "original_priority                        99\n",
       "box                                      53\n",
       "final_priority                            0\n",
       "entry_dttm                                0\n",
       "dispatch_dttm                             0\n",
       "dotw                                      0\n",
       "call_type                                 0\n",
       "fire_prevention_district                  0\n",
       "call_final_disposition                    0\n",
       "call_date                                 0\n",
       "battalion                                 0\n",
       "als_unit                                  0\n",
       "call_number                               0\n",
       "neighborhoods_analysis_boundaries         0\n",
       "incident_number                           0\n",
       "location                                  0\n",
       "month                                     0\n",
       "number_of_alarms                          0\n",
       "priority                                  0\n",
       "received_dttm                             0\n",
       "rowid                                     0\n",
       "supervisor_district                       0\n",
       "unit_id                                   0\n",
       "unit_sequence_in_call_dispatch            0\n",
       "unit_type                                 0\n",
       "watch_date                                0\n",
       "year                                      0\n",
       "address                                   0\n",
       "dtype: int64"
      ]
     },
     "execution_count": 31,
     "metadata": {},
     "output_type": "execute_result"
    }
   ],
   "source": [
    "# This list makes a lot of sense, not every incident requires hospital, transportation, etc.\n",
    "# Unfortunately we are missing a lot of on-scene date times though?\n",
    "df1.isna().sum().sort_values(ascending=False)"
   ]
  },
  {
   "cell_type": "code",
   "execution_count": 32,
   "metadata": {},
   "outputs": [
    {
     "data": {
      "text/plain": [
       "Timestamp('2018-11-23 00:00:00')"
      ]
     },
     "execution_count": 32,
     "metadata": {},
     "output_type": "execute_result"
    }
   ],
   "source": [
    "df1[\"watch_date\"].max()"
   ]
  },
  {
   "cell_type": "code",
   "execution_count": null,
   "metadata": {},
   "outputs": [],
   "source": []
  }
 ],
 "metadata": {
  "kernelspec": {
   "display_name": "Python 3",
   "language": "python",
   "name": "python3"
  },
  "language_info": {
   "codemirror_mode": {
    "name": "ipython",
    "version": 3
   },
   "file_extension": ".py",
   "mimetype": "text/x-python",
   "name": "python",
   "nbconvert_exporter": "python",
   "pygments_lexer": "ipython3",
   "version": "3.6.5"
  }
 },
 "nbformat": 4,
 "nbformat_minor": 2
}
